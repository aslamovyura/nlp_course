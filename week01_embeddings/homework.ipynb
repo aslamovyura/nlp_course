{
 "cells": [
  {
   "cell_type": "markdown",
   "metadata": {},
   "source": [
    "## Homework: Multilingual Embedding-based Machine Translation (7 points)"
   ]
  },
  {
   "cell_type": "markdown",
   "metadata": {},
   "source": [
    "**In this homework** **<font color='red'>YOU</font>** will make machine translation system without using parallel corpora, alignment, attention, 100500 depth super-cool recurrent neural network and all that kind superstuff.\n",
    "\n",
    "But even without parallel corpora this system can be good enough (hopefully). \n",
    "\n",
    "For our system we choose two kindred Slavic languages: Ukrainian and Russian. "
   ]
  },
  {
   "cell_type": "markdown",
   "metadata": {},
   "source": [
    "### Feel the difference!\n",
    "\n",
    "(_синій кіт_ vs. _синій кит_)"
   ]
  },
  {
   "cell_type": "markdown",
   "metadata": {},
   "source": [
    "![blue_cat_blue_whale.png](https://github.com/yandexdataschool/nlp_course/raw/master/resources/blue_cat_blue_whale.png)"
   ]
  },
  {
   "cell_type": "markdown",
   "metadata": {},
   "source": [
    "### Frament of the Swadesh list for some slavic languages\n",
    "\n",
    "The Swadesh list is a lexicostatistical stuff. It's named after American linguist Morris Swadesh and contains basic lexis. This list are used to define subgroupings of languages, its relatedness.\n",
    "\n",
    "So we can see some kind of word invariance for different Slavic languages.\n",
    "\n",
    "\n",
    "| Russian         | Belorussian              | Ukrainian               | Polish             | Czech                         | Bulgarian            |\n",
    "|-----------------|--------------------------|-------------------------|--------------------|-------------------------------|-----------------------|\n",
    "| женщина         | жанчына, кабета, баба    | жінка                   | kobieta            | žena                          | жена                  |\n",
    "| мужчина         | мужчына                  | чоловік, мужчина        | mężczyzna          | muž                           | мъж                   |\n",
    "| человек         | чалавек                  | людина, чоловік         | człowiek           | člověk                        | човек                 |\n",
    "| ребёнок, дитя   | дзіця, дзіцёнак, немаўля | дитина, дитя            | dziecko            | dítě                          | дете                  |\n",
    "| жена            | жонка                    | дружина, жінка          | żona               | žena, manželka, choť          | съпруга, жена         |\n",
    "| муж             | муж, гаспадар            | чоловiк, муж            | mąż                | muž, manžel, choť             | съпруг, мъж           |\n",
    "| мать, мама      | маці, матка              | мати, матір, неня, мама | matka              | matka, máma, 'стар.' mateř    | майка                 |\n",
    "| отец, тятя      | бацька, тата             | батько, тато, татусь    | ojciec             | otec                          | баща, татко           |\n",
    "| много           | шмат, багата             | багато                  | wiele              | mnoho, hodně                  | много                 |\n",
    "| несколько       | некалькі, колькі         | декілька, кілька        | kilka              | několik, pár, trocha          | няколко               |\n",
    "| другой, иной    | іншы                     | інший                   | inny               | druhý, jiný                   | друг                  |\n",
    "| зверь, животное | жывёла, звер, істота     | тварина, звір           | zwierzę            | zvíře                         | животно               |\n",
    "| рыба            | рыба                     | риба                    | ryba               | ryba                          | риба                  |\n",
    "| птица           | птушка                   | птах, птиця             | ptak               | pták                          | птица                 |\n",
    "| собака, пёс     | сабака                   | собака, пес             | pies               | pes                           | куче, пес             |\n",
    "| вошь            | вош                      | воша                    | wesz               | veš                           | въшка                 |\n",
    "| змея, гад       | змяя                     | змія, гад               | wąż                | had                           | змия                  |\n",
    "| червь, червяк   | чарвяк                   | хробак, черв'як         | robak              | červ                          | червей                |\n",
    "| дерево          | дрэва                    | дерево                  | drzewo             | strom, dřevo                  | дърво                 |\n",
    "| лес             | лес                      | ліс                     | las                | les                           | гора, лес             |\n",
    "| палка           | кій, палка               | палиця                  | patyk, pręt, pałka | hůl, klacek, prut, kůl, pálka | палка, пръчка, бастун |"
   ]
  },
  {
   "cell_type": "markdown",
   "metadata": {},
   "source": [
    "But the context distribution of these languages demonstrates even more invariance. And we can use this fact for our for our purposes."
   ]
  },
  {
   "cell_type": "markdown",
   "metadata": {},
   "source": [
    "## Data"
   ]
  },
  {
   "cell_type": "code",
   "execution_count": 63,
   "metadata": {},
   "outputs": [],
   "source": [
    "import gensim\n",
    "import numpy as np\n",
    "from gensim.models import KeyedVectors"
   ]
  },
  {
   "cell_type": "markdown",
   "metadata": {},
   "source": [
    "Download embeddings here:\n",
    "* [cc.uk.300.vec.zip](https://yadi.sk/d/9CAeNsJiInoyUA)\n",
    "* [cc.ru.300.vec.zip](https://yadi.sk/d/3yG0-M4M8fypeQ)"
   ]
  },
  {
   "cell_type": "markdown",
   "metadata": {},
   "source": [
    "Load embeddings for ukrainian and russian."
   ]
  },
  {
   "cell_type": "code",
   "execution_count": 64,
   "metadata": {},
   "outputs": [],
   "source": [
    "uk_emb = KeyedVectors.load_word2vec_format(\"cc.uk.300.vec\")"
   ]
  },
  {
   "cell_type": "code",
   "execution_count": 65,
   "metadata": {},
   "outputs": [],
   "source": [
    "ru_emb = KeyedVectors.load_word2vec_format(\"cc.ru.300.vec\")"
   ]
  },
  {
   "cell_type": "code",
   "execution_count": 66,
   "metadata": {},
   "outputs": [
    {
     "data": {
      "text/plain": [
       "[('август', 1.0),\n",
       " ('июль', 0.9383153319358826),\n",
       " ('сентябрь', 0.9240028858184814),\n",
       " ('июнь', 0.9222576022148132),\n",
       " ('октябрь', 0.9095539450645447),\n",
       " ('ноябрь', 0.8930035829544067),\n",
       " ('апрель', 0.8729087114334106),\n",
       " ('декабрь', 0.8652557730674744),\n",
       " ('март', 0.8545796871185303),\n",
       " ('февраль', 0.8401416540145874)]"
      ]
     },
     "execution_count": 66,
     "metadata": {},
     "output_type": "execute_result"
    }
   ],
   "source": [
    "ru_emb.most_similar([ru_emb[\"август\"]], topn=10)"
   ]
  },
  {
   "cell_type": "code",
   "execution_count": 67,
   "metadata": {},
   "outputs": [
    {
     "data": {
      "text/plain": [
       "[('серпень', 1.0),\n",
       " ('липень', 0.9096439480781555),\n",
       " ('вересень', 0.9016969203948975),\n",
       " ('червень', 0.8992519974708557),\n",
       " ('жовтень', 0.8810408115386963),\n",
       " ('листопад', 0.8787633776664734),\n",
       " ('квітень', 0.8592804670333862),\n",
       " ('грудень', 0.8586863279342651),\n",
       " ('травень', 0.8408110737800598),\n",
       " ('лютий', 0.8256431221961975)]"
      ]
     },
     "execution_count": 67,
     "metadata": {},
     "output_type": "execute_result"
    }
   ],
   "source": [
    "uk_emb.most_similar([uk_emb[\"серпень\"]])"
   ]
  },
  {
   "cell_type": "code",
   "execution_count": 68,
   "metadata": {},
   "outputs": [
    {
     "data": {
      "text/plain": [
       "[('Недопустимость', 0.24435287714004517),\n",
       " ('конструктивность', 0.23293082416057587),\n",
       " ('офор', 0.23256802558898926),\n",
       " ('deteydlya', 0.23031717538833618),\n",
       " ('пресечении', 0.22632381319999695),\n",
       " ('одностороннего', 0.22608885169029236),\n",
       " ('подход', 0.2230587601661682),\n",
       " ('иболее', 0.22003725171089172),\n",
       " ('2015Александр', 0.21872764825820923),\n",
       " ('конструктивен', 0.21796566247940063)]"
      ]
     },
     "execution_count": 68,
     "metadata": {},
     "output_type": "execute_result"
    }
   ],
   "source": [
    "ru_emb.most_similar([uk_emb[\"серпень\"]])"
   ]
  },
  {
   "cell_type": "markdown",
   "metadata": {},
   "source": [
    "Load small dictionaries for correspoinding words pairs as trainset and testset."
   ]
  },
  {
   "cell_type": "code",
   "execution_count": 69,
   "metadata": {},
   "outputs": [],
   "source": [
    "def load_word_pairs(filename):\n",
    "    uk_ru_pairs = []\n",
    "    uk_vectors = []\n",
    "    ru_vectors = []\n",
    "    with open(filename, \"r\") as inpf:\n",
    "        for line in inpf:\n",
    "            uk, ru = line.rstrip().split(\"\\t\")\n",
    "            if uk not in uk_emb or ru not in ru_emb:\n",
    "                continue\n",
    "            uk_ru_pairs.append((uk, ru))\n",
    "            uk_vectors.append(uk_emb[uk])\n",
    "            ru_vectors.append(ru_emb[ru])\n",
    "    return uk_ru_pairs, np.array(uk_vectors), np.array(ru_vectors)"
   ]
  },
  {
   "cell_type": "code",
   "execution_count": 90,
   "metadata": {},
   "outputs": [],
   "source": [
    "uk_ru_train, X_train, Y_train = load_word_pairs(\"ukr_rus.train.txt\")"
   ]
  },
  {
   "cell_type": "code",
   "execution_count": 91,
   "metadata": {},
   "outputs": [],
   "source": [
    "uk_ru_test, X_test, Y_test = load_word_pairs(\"ukr_rus.test.txt\")"
   ]
  },
  {
   "cell_type": "markdown",
   "metadata": {},
   "source": [
    "## Embedding space mapping"
   ]
  },
  {
   "cell_type": "markdown",
   "metadata": {},
   "source": [
    "Let $x_i \\in \\mathrm{R}^d$ be the distributed representation of word $i$ in the source language, and $y_i \\in \\mathrm{R}^d$ is the vector representation of its translation. Our purpose is to learn such linear transform $W$ that minimizes euclidian distance between $Wx_i$ and $y_i$ for some subset of word embeddings. Thus we can formulate so-called Procrustes problem:\n",
    "\n",
    "$$W^*= \\arg\\min_W \\sum_{i=1}^n||Wx_i - y_i||_2$$\n",
    "or\n",
    "$$W^*= \\arg\\min_W ||WX - Y||_F$$\n",
    "\n",
    "where $||*||_F$ - Frobenius norm.\n",
    "\n",
    "In Greek mythology, Procrustes or \"the stretcher\" was a rogue smith and bandit from Attica who attacked people by stretching them or cutting off their legs, so as to force them to fit the size of an iron bed. We make same bad things with source embedding space. Our Procrustean bed is target embedding space."
   ]
  },
  {
   "cell_type": "markdown",
   "metadata": {},
   "source": [
    "![embedding_mapping.png](https://github.com/yandexdataschool/nlp_course/raw/master/resources/embedding_mapping.png)"
   ]
  },
  {
   "cell_type": "markdown",
   "metadata": {},
   "source": [
    "![procrustes.png](https://github.com/yandexdataschool/nlp_course/raw/master/resources/procrustes.png)"
   ]
  },
  {
   "cell_type": "markdown",
   "metadata": {},
   "source": [
    "But wait...$W^*= \\arg\\min_W \\sum_{i=1}^n||Wx_i - y_i||_2$ looks like simple multiple linear regression (without intercept fit). So let's code."
   ]
  },
  {
   "cell_type": "code",
   "execution_count": 92,
   "metadata": {},
   "outputs": [
    {
     "data": {
      "text/plain": [
       "LinearRegression(fit_intercept=False)"
      ]
     },
     "execution_count": 92,
     "metadata": {},
     "output_type": "execute_result"
    }
   ],
   "source": [
    "from sklearn.linear_model import LinearRegression\n",
    "\n",
    "mapping = LinearRegression(fit_intercept=False)\n",
    "mapping.fit(X_train, Y_train)"
   ]
  },
  {
   "cell_type": "markdown",
   "metadata": {},
   "source": [
    "Let's take a look at neigbours of the vector of word _\"серпень\"_ (_\"август\"_ in Russian) after linear transform."
   ]
  },
  {
   "cell_type": "code",
   "execution_count": 141,
   "metadata": {},
   "outputs": [
    {
     "data": {
      "text/plain": [
       "[('апрель', 0.8541284799575806),\n",
       " ('июнь', 0.8411201238632202),\n",
       " ('март', 0.8396992683410645),\n",
       " ('сентябрь', 0.8359867334365845),\n",
       " ('февраль', 0.8329296112060547),\n",
       " ('октябрь', 0.8311843872070312),\n",
       " ('ноябрь', 0.8278921842575073),\n",
       " ('июль', 0.8234527111053467),\n",
       " ('август', 0.812049925327301),\n",
       " ('декабрь', 0.8039002418518066)]"
      ]
     },
     "execution_count": 141,
     "metadata": {},
     "output_type": "execute_result"
    }
   ],
   "source": [
    "august = mapping.predict(uk_emb[\"серпень\"].reshape(1, -1))\n",
    "ru_emb.most_similar(august)"
   ]
  },
  {
   "cell_type": "markdown",
   "metadata": {},
   "source": [
    "We can see that neighbourhood of this embedding cosists of different months, but right variant is on the ninth place."
   ]
  },
  {
   "cell_type": "markdown",
   "metadata": {},
   "source": [
    "As quality measure we will use precision top-1, top-5 and top-10 (for each transformed Ukrainian embedding we count how many right target pairs are found in top N nearest neighbours in Russian embedding space)."
   ]
  },
  {
   "cell_type": "code",
   "execution_count": 168,
   "metadata": {},
   "outputs": [],
   "source": [
    "def precision(pairs, mapped_vectors, topn=1):\n",
    "    \"\"\"\n",
    "    :args:\n",
    "        pairs = list of right word pairs [(uk_word_0, ru_word_0), ...]\n",
    "        mapped_vectors = list of embeddings after mapping from source embedding space to destination embedding space\n",
    "        topn = the number of nearest neighbours in destination embedding space to choose from\n",
    "    :returns:\n",
    "        precision_val, float number, total number of words for those we can find right translation at top K.\n",
    "    \"\"\"\n",
    "    assert len(pairs) == len(mapped_vectors)\n",
    "    num_matches = 0\n",
    "    for i, (_, ru) in enumerate(pairs):\n",
    "        vector = mapped_vectors[i].reshape(1, -1)\n",
    "        word_score_pairs = ru_emb.most_similar(vector, topn=topn)\n",
    "        num_matches += sum([pair[0]== ru for pair in word_score_pairs])\n",
    "\n",
    "    precision_val = num_matches / len(pairs)\n",
    "    return precision_val\n"
   ]
  },
  {
   "cell_type": "code",
   "execution_count": 164,
   "metadata": {},
   "outputs": [
    {
     "name": "stdout",
     "output_type": "stream",
     "text": [
      "0.0\n",
      "1.0\n",
      "1.0\n"
     ]
    }
   ],
   "source": [
    "assert precision([(\"серпень\", \"август\")], august, topn=5) == 0.0\n",
    "assert precision([(\"серпень\", \"август\")], august, topn=9) == 1.0\n",
    "assert precision([(\"серпень\", \"август\")], august, topn=10) == 1.0"
   ]
  },
  {
   "cell_type": "code",
   "execution_count": 166,
   "metadata": {},
   "outputs": [
    {
     "name": "stdout",
     "output_type": "stream",
     "text": [
      "0.0\n",
      "1.0\n"
     ]
    }
   ],
   "source": [
    "assert precision(uk_ru_test, X_test) == 0.0\n",
    "assert precision(uk_ru_test, Y_test) == 1.0"
   ]
  },
  {
   "cell_type": "code",
   "execution_count": 167,
   "metadata": {},
   "outputs": [
    {
     "name": "stdout",
     "output_type": "stream",
     "text": [
      "0.6356589147286822\n",
      "0.6356589147286822\n",
      "0.813953488372093\n",
      "0.813953488372093\n"
     ]
    }
   ],
   "source": [
    "precision_top1 = precision(uk_ru_test, mapping.predict(X_test), 1)\n",
    "print(precision_top1)\n",
    "\n",
    "precision_top5 = precision(uk_ru_test, mapping.predict(X_test), 5)\n",
    "print(precision_top5)\n",
    "\n",
    "assert precision_top1 >= 0.635\n",
    "assert precision_top5 >= 0.813"
   ]
  },
  {
   "cell_type": "markdown",
   "metadata": {},
   "source": [
    "## Making it better (orthogonal Procrustean problem)"
   ]
  },
  {
   "cell_type": "markdown",
   "metadata": {},
   "source": [
    "It can be shown (see original paper) that a self-consistent linear mapping between semantic spaces should be orthogonal. \n",
    "We can restrict transform $W$ to be orthogonal. Then we will solve next problem:\n",
    "\n",
    "$$W^*= \\arg\\min_W ||WX - Y||_F \\text{, where: } W^TW = I$$\n",
    "\n",
    "$$I \\text{- identity matrix}$$\n",
    "\n",
    "Instead of making yet another regression problem we can find optimal orthogonal transformation using singular value decomposition. It turns out that optimal transformation $W^*$ can be expressed via SVD components:\n",
    "$$X^TY=U\\Sigma V^T\\text{, singular value decompostion}$$\n",
    "$$W^*=UV^T$$"
   ]
  },
  {
   "cell_type": "code",
   "execution_count": 204,
   "metadata": {},
   "outputs": [],
   "source": [
    "def learn_transform(X_train, Y_train):\n",
    "    \"\"\" \n",
    "    :returns: W* : float matrix[emb_dim x emb_dim] as defined in formula above\n",
    "    \"\"\"\n",
    "    Z_train = np.dot(X_train.T, Y_train)\n",
    "    u, s, vh = np.linalg.svd(Z_train, full_matrices=True)\n",
    "    return np.dot(u, vh)"
   ]
  },
  {
   "cell_type": "code",
   "execution_count": 205,
   "metadata": {},
   "outputs": [],
   "source": [
    "W = learn_transform(X_train, Y_train)"
   ]
  },
  {
   "cell_type": "code",
   "execution_count": 206,
   "metadata": {},
   "outputs": [
    {
     "data": {
      "text/plain": [
       "[('апрель', 0.8237907886505127),\n",
       " ('сентябрь', 0.8049712181091309),\n",
       " ('март', 0.8025652766227722),\n",
       " ('июнь', 0.8021841049194336),\n",
       " ('октябрь', 0.8001736402511597),\n",
       " ('ноябрь', 0.793448269367218),\n",
       " ('февраль', 0.7914119958877563),\n",
       " ('июль', 0.790810763835907),\n",
       " ('август', 0.7891014814376831),\n",
       " ('декабрь', 0.7686371803283691)]"
      ]
     },
     "execution_count": 206,
     "metadata": {},
     "output_type": "execute_result"
    }
   ],
   "source": [
    "ru_emb.most_similar([np.matmul(uk_emb[\"серпень\"], W)])"
   ]
  },
  {
   "cell_type": "code",
   "execution_count": 207,
   "metadata": {},
   "outputs": [
    {
     "name": "stdout",
     "output_type": "stream",
     "text": [
      "0.6537467700258398\n",
      "0.8242894056847545\n"
     ]
    }
   ],
   "source": [
    "assert precision(uk_ru_test, np.matmul(X_test, W)) >= 0.653\n",
    "assert precision(uk_ru_test, np.matmul(X_test, W), 5) >= 0.824"
   ]
  },
  {
   "cell_type": "markdown",
   "metadata": {},
   "source": [
    "## UK-RU Translator"
   ]
  },
  {
   "cell_type": "markdown",
   "metadata": {},
   "source": [
    "Now we are ready to make simple word-based translator: for earch word in source language in shared embedding space we find the nearest in target language.\n"
   ]
  },
  {
   "cell_type": "code",
   "execution_count": 208,
   "metadata": {},
   "outputs": [],
   "source": [
    "with open(\"fairy_tale.txt\", \"r\") as inpf:\n",
    "    uk_sentences = [line.rstrip().lower() for line in inpf]"
   ]
  },
  {
   "cell_type": "code",
   "execution_count": 272,
   "metadata": {},
   "outputs": [],
   "source": [
    "from nltk.tokenize import WordPunctTokenizer\n",
    "\n",
    "def translate(sentence):\n",
    "    \"\"\"\n",
    "    :args:\n",
    "        sentence - sentence in Ukrainian (str)\n",
    "    :returns:\n",
    "        translation - sentence in Russian (str)\n",
    "\n",
    "    * find ukrainian embedding for each word in sentence\n",
    "    * transform ukrainian embedding vector\n",
    "    * find nearest russian word and replace\n",
    "    \"\"\"\n",
    "    \n",
    "    tokenizer = WordPunctTokenizer()\n",
    "    sent_tok = tokenizer.tokenize(sentence.lower())\n",
    "    tokens = sent_tok\n",
    "    for i, tok in enumerate(sent_tok):\n",
    "        if (tok.isalpha() and tok in uk_emb.vocab):\n",
    "            tokens[i] = ru_emb.most_similar([np.matmul(uk_emb[tok], W)], topn=1)[0][0]\n",
    "    \n",
    "    result = ' '.join(tokens)\n",
    "    print(result)\n",
    "    return result"
   ]
  },
  {
   "cell_type": "code",
   "execution_count": 273,
   "metadata": {},
   "outputs": [
    {
     "name": "stdout",
     "output_type": "stream",
     "text": [
      ".\n",
      "1 , 3\n",
      "кот поймал мышку\n"
     ]
    }
   ],
   "source": [
    "assert translate(\".\") == \".\"\n",
    "assert translate(\"1 , 3\") == \"1 , 3\"\n",
    "assert translate(\"кіт зловив мишу\") == \"кот поймал мышку\""
   ]
  },
  {
   "cell_type": "code",
   "execution_count": 274,
   "metadata": {},
   "outputs": [
    {
     "name": "stdout",
     "output_type": "stream",
     "text": [
      "лисичка - сестричка и волк - панібрат\n",
      "src: лисичка - сестричка і вовк - панібрат\n",
      "dst: лисичка - сестричка и волк - панібрат\n",
      "\n",
      "как была себе лисичка и сделала избушку , и и живет . а оно приходят морозы . из лисичка замерзла и и побежала во село огня добувать , чтобы витопити . прибегает к одной бабы и и говорит :\n",
      "src: як була собі лисичка та зробила хатку, та й живе. а це приходять холоди. от лисичка замерзла та й побігла в село вогню добувать, щоб витопити. прибігає до одної баби та й каже:\n",
      "dst: как была себе лисичка и сделала избушку , и и живет . а оно приходят морозы . из лисичка замерзла и и побежала во село огня добувать , чтобы витопити . прибегает к одной бабы и и говорит :\n",
      "\n",
      "— здоровые были , бабушку ! со воскресеньем ... позичте мне огня , мной тебе одслужу .\n",
      "src: — здорові були, бабусю! з неділею... позичте мені огню, я вам одслужу.\n",
      "dst: — здоровые были , бабушку ! со воскресеньем ... позичте мне огня , мной тебе одслужу .\n",
      "\n",
      "— хорошо , — говорит , — лисичко - сестричка . садись погрійся немного , пока мной пирожки повибираю со печи !\n",
      "src: — добре, — каже, — лисичко - сестричко. сідай погрійся трохи, поки я пиріжечки повибираю з печі!\n",
      "dst: — хорошо , — говорит , — лисичко - сестричка . садись погрійся немного , пока мной пирожки повибираю со печи !\n",
      "\n",
      "а бабка маковые пирожки ада . из бабка выбирает пирожки и по столе кладет , чтобы прохололи ; а лисичка підгляділа и за пирог , и со хаты ... виїла мачок со середины , а туда напхала сміттячка , стулила и и бежит .\n",
      "src: а баба макові пиріжки пекла. от баба вибирає пиріжки та на столі кладе, щоб прохололи; а лисичка підгляділа та за пиріг, та з хати... виїла мачок із середини, а туди напхала сміттячка, стулила та й біжить.\n",
      "dst: а бабка маковые пирожки ада . из бабка выбирает пирожки и по столе кладет , чтобы прохололи ; а лисичка підгляділа и за пирог , и со хаты ... виїла мачок со середины , а туда напхала сміттячка , стулила и и бежит .\n",
      "\n",
      "из бежит , а парни товар гонят к воды .\n",
      "src: от біжить, а хлопці товар женуть до води.\n",
      "dst: из бежит , а парни товар гонят к воды .\n",
      "\n",
      "— здоровые были , парни !\n",
      "src: — здорові були, хлопці!\n",
      "dst: — здоровые были , парни !\n",
      "\n",
      "— здоровая , лисичко - сестричка !\n",
      "src: — здорова, лисичко - сестричко!\n",
      "dst: — здоровая , лисичко - сестричка !\n",
      "\n",
      "— проміняйте мне бычка - третячка по маковый пирожок !\n",
      "src: — проміняйте мені бичка - третячка на маковий пиріжок!\n",
      "dst: — проміняйте мне бычка - третячка по маковый пирожок !\n",
      "\n",
      "— хорошо , — дескать .\n",
      "src: — добре, — кажуть.\n",
      "dst: — хорошо , — дескать .\n",
      "\n",
      "— только , — говорит , — теперь не ешьте , а как мной вибіжу со деревни , то тогда .\n",
      "src: — тільки, — каже, — тепер не їжте, а як я вибіжу з села, то тоді.\n",
      "dst: — только , — говорит , — теперь не ешьте , а как мной вибіжу со деревни , то тогда .\n",
      "\n",
      "из поменяются . лисичка за бычка — и во лес . а парни к пирожка — а там сміттянко .\n",
      "src: от помінялись. лисичка за бичка — та в ліс. а хлопці до пиріжка — а там сміттянко.\n",
      "dst: из поменяются . лисичка за бычка — и во лес . а парни к пирожка — а там сміттянко .\n",
      "\n",
      "из прибежала лисичка к своего хатки , вирубала дерево , сделала санки , запрягла бычка — идет . аж бежит волк :\n",
      "src: от прибігла лисичка до своєї хатки, вирубала дерево, зробила санки, запрягла бичка — іде. аж біжить вовк:\n",
      "dst: из прибежала лисичка к своего хатки , вирубала дерево , сделала санки , запрягла бычка — идет . аж бежит волк :\n",
      "\n",
      "— здоровая , лисичко - сестричка !\n",
      "src: — здорова, лисичко - сестричко!\n",
      "dst: — здоровая , лисичко - сестричка !\n",
      "\n",
      "— здоровье , вовчику - братику !\n",
      "src: — здоров, вовчику - братику!\n",
      "dst: — здоровье , вовчику - братику !\n",
      "\n",
      "— куда ты взяла бычка - третячка и санки ?\n",
      "src: — де ти взяла бичка - третячка і санки?\n",
      "dst: — куда ты взяла бычка - третячка и санки ?\n",
      "\n",
      "— сделала себе !\n",
      "src: — зробила собі!\n",
      "dst: — сделала себе !\n",
      "\n",
      "— підвези же , — говорит , — меня , лисичко - сестричка !\n",
      "src: — підвези ж, — каже, — мене, лисичко - сестричко!\n",
      "dst: — підвези же , — говорит , — меня , лисичко - сестричка !\n",
      "\n",
      "— ьн , куда мной тебя возьму ? ты мне и санки поламаєш !\n",
      "src: — е, куди я тебе візьму? ти мені й санки поламаєш!\n",
      "dst: — ьн , куда мной тебя возьму ? ты мне и санки поламаєш !\n",
      "\n",
      "— ни , — говорит , — мной только одну ножку положу .\n",
      "src: — ні, — каже, — я тільки одну ніжку положу.\n",
      "dst: — ни , — говорит , — мной только одну ножку положу .\n",
      "\n",
      "— ну , дощечки !\n",
      "src: — ну, клади!\n",
      "dst: — ну , дощечки !\n",
      "\n",
      "из от ’ ехали немного , волк и говорит :\n",
      "src: от од’їхали трохи, вовк і каже:\n",
      "dst: из от ’ ехали немного , волк и говорит :\n",
      "\n",
      "— положу мной , лисичко - сестричка , и вторую ножку !\n",
      "src: — положу я, лисичко - сестричко, й другу ніжку!\n",
      "dst: — положу мной , лисичко - сестричка , и вторую ножку !\n",
      "\n",
      "— ьн , вовчику - братику , ты мне и санки поламаєш !\n",
      "src: — е, вовчику - братику, ти мені й санки поламаєш!\n",
      "dst: — ьн , вовчику - братику , ты мне и санки поламаєш !\n",
      "\n",
      "— ни , — говорит , — не поламаю !\n",
      "src: — ні, — каже, — не поламаю!\n",
      "dst: — ни , — говорит , — не поламаю !\n",
      "\n",
      "— ну , дощечки !\n",
      "src: — ну, клади!\n",
      "dst: — ну , дощечки !\n",
      "\n",
      "волк и положил . идут , едут , когда оно что-то — трісь .\n",
      "src: вовк і положив. ідуть, їдуть, коли це щось — трісь.\n",
      "dst: волк и положил . идут , едут , когда оно что-то — трісь .\n",
      "\n",
      "— ьн , вовчику - братику , ты мне уже и санки ламаєш !\n",
      "src: — е, вовчику - братику, ти мені вже й санки ламаєш!\n",
      "dst: — ьн , вовчику - братику , ты мне уже и санки ламаєш !\n",
      "\n",
      "— ни лисичко - сестричка , то мной орішок розкусив .\n",
      "src: — ні лисичко - сестричко, то я орішок розкусив.\n",
      "dst: — ни лисичко - сестричка , то мной орішок розкусив .\n",
      "\n",
      "— ну , девки !\n",
      "src: — ну, гляди!\n",
      "dst: — ну , девки !\n",
      "\n",
      "из едут ...\n",
      "src: от їдуть...\n",
      "dst: из едут ...\n",
      "\n",
      "— положу мной , лисичко - сестричка , и третью ножку ! — говорит волк .\n",
      "src: — положу я, лисичко - сестричко, й третю ніжку! — каже вовк.\n",
      "dst: — положу мной , лисичко - сестричка , и третью ножку ! — говорит волк .\n",
      "\n",
      "— куда ты положиш ? ты мне санки поламаєш ! Чем мной тогда дровець привезу ?\n",
      "src: — куди ти положиш? ти мені санки поламаєш! чим я тоді дровець привезу?\n",
      "dst: — куда ты положиш ? ты мне санки поламаєш ! Чем мной тогда дровець привезу ?\n",
      "\n",
      "— ни , — говорит , — не поламаю .\n",
      "src: — ні, — каже, — не поламаю.\n",
      "dst: — ни , — говорит , — не поламаю .\n",
      "\n",
      "— ну , дощечки .\n",
      "src: — ну, клади.\n",
      "dst: — ну , дощечки .\n",
      "\n",
      "волк положил и третью ногу . когда оно — трісь !\n",
      "src: вовк положив і третю ногу. коли це — трісь!\n",
      "dst: волк положил и третью ногу . когда оно — трісь !\n",
      "\n",
      "— ой горе ! — говорит лисичка . — иди себе прочь , вовчику , — ты мне совсем санки поламаєш .\n",
      "src: — ой лихо! — каже лисичка. — йди собі геть, вовчику, — ти мені зовсім санки поламаєш.\n",
      "dst: — ой горе ! — говорит лисичка . — иди себе прочь , вовчику , — ты мне совсем санки поламаєш .\n",
      "\n",
      "— ни , то мной орішок розкусив !\n",
      "src: — ні, то я орішок розкусив!\n",
      "dst: — ни , то мной орішок розкусив !\n",
      "\n",
      "— дай то и мне !\n",
      "src: — дай же й мені!\n",
      "dst: — дай то и мне !\n",
      "\n",
      "— нету , — говорит , — последний !\n",
      "src: — нема, — каже, — останній!\n",
      "dst: — нету , — говорит , — последний !\n",
      "\n",
      "едут себе и и едут ; вовчик и говорит :\n",
      "src: їдуть собі та й їдуть; вовчик і каже:\n",
      "dst: едут себе и и едут ; вовчик и говорит :\n",
      "\n",
      "— сяду мной совсем , лисичко !\n",
      "src: — сяду я зовсім, лисичко!\n",
      "dst: — сяду мной совсем , лисичко !\n",
      "\n",
      "— куда ты сяду , вовчику - братику ? и санки розламаєш !\n",
      "src: — куди ти сядеш, вовчику - братику? і санки розламаєш!\n",
      "dst: — куда ты сяду , вовчику - братику ? и санки розламаєш !\n",
      "\n",
      "— мной потихоньку , — говорит .\n",
      "src: — я помаленьку, — каже.\n",
      "dst: — мной потихоньку , — говорит .\n",
      "\n",
      "— ну , девки !\n",
      "src: — ну, гляди!\n",
      "dst: — ну , девки !\n",
      "\n",
      "из вовчик только что уселся , а санки так и распались ... лисичка тогда давай его лаять ! ругала - ругала и и говорит :\n",
      "src: от вовчик тільки що сів, а санки так і розпались... лисичка тоді давай його лаять! лаяла - лаяла та й каже:\n",
      "dst: из вовчик только что уселся , а санки так и распались ... лисичка тогда давай его лаять ! ругала - ругала и и говорит :\n",
      "\n",
      "— пойди же , сякий - такой сыну , дровець нарубай и по санки вирубай , и приволочи !\n",
      "src: — піди ж, сякий - такий сину, дровець нарубай і на санки вирубай, і приволочи!\n",
      "dst: — пойди же , сякий - такой сыну , дровець нарубай и по санки вирубай , и приволочи !\n",
      "\n",
      "— как то мной , — говорит вовчик , — вирубаю , когда мной не знаю , которого деревья ?\n",
      "src: — як же я, — каже вовчик, — вирубаю, коли я не знаю, якого дерева?\n",
      "dst: — как то мной , — говорит вовчик , — вирубаю , когда мной не знаю , которого деревья ?\n",
      "\n"
     ]
    },
    {
     "name": "stdout",
     "output_type": "stream",
     "text": [
      "— ьн , — сякий - такой сыну ! как санки ламать , так и знал , а дровець вирубать , то и ни !\n",
      "src: — е, — сякий - такий сину! як санчата ламать, так і знав, а дровець вирубать, то й ні!\n",
      "dst: — ьн , — сякий - такой сыну ! как санки ламать , так и знал , а дровець вирубать , то и ни !\n",
      "\n",
      "коришувала его , коришувала ...\n",
      "src: коришувала його, коришувала...\n",
      "dst: коришувала его , коришувала ...\n",
      "\n",
      "— как увійдеш , — говорит , — во лес , то говори : « рубайся , дерево , и прямое , и кривое ! рубайся , дерево , и прямое , и кривое ! »\n",
      "src: — як увійдеш, — каже, — в ліс, то кажи: « рубайся, дерево, й пряме, й криве! рубайся, дерево, й пряме, й криве! »\n",
      "dst: — как увійдеш , — говорит , — во лес , то говори : « рубайся , дерево , и прямое , и кривое ! рубайся , дерево , и прямое , и кривое ! »\n",
      "\n",
      "волк и пошел .\n",
      "src: вовк і пішов.\n",
      "dst: волк и пошел .\n",
      "\n",
      "из приходит во лес и и говорит :\n",
      "src: от приходить в ліс та й каже:\n",
      "dst: из приходит во лес и и говорит :\n",
      "\n",
      "— рубайся , дерево , кривое и кривое !\n",
      "src: — рубайся, дерево, криве й криве!\n",
      "dst: — рубайся , дерево , кривое и кривое !\n",
      "\n",
      "дерево и нарубалось . такое корячкувате , что и по палку не выберешь — не то по полозок ! приносит вовчик к лисички что дерево . она как посмотрела , давай его снова батькувати .\n",
      "src: дерево й нарубалось. таке корячкувате, що й на палицю не вибереш — не то на полозок! приносить вовчик до лисички те дерево. вона як подивилась, давай його знов батькувати.\n",
      "dst: дерево и нарубалось . такое корячкувате , что и по палку не выберешь — не то по полозок ! приносит вовчик к лисички что дерево . она как посмотрела , давай его снова батькувати .\n",
      "\n",
      "— ты , — говорит , — сякий - такой сыну , не так говорил , как мной тебе велела !\n",
      "src: — ти, — каже, — сякий - такий сину, не так казав, як я тобі веліла!\n",
      "dst: — ты , — говорит , — сякий - такой сыну , не так говорил , как мной тебе велела !\n",
      "\n",
      "— ни , лисичко - сестричка , мной , — говорит , — стоял и всё говорил : « рубайся , дерево , кривое и кривое ! »\n",
      "src: — ні, лисичко - сестричко, я, — каже, — стояв та все казав: « рубайся, дерево, криве й криве! »\n",
      "dst: — ни , лисичко - сестричка , мной , — говорит , — стоял и всё говорил : « рубайся , дерево , кривое и кривое ! »\n",
      "\n",
      "— ьн , бесов сыну , и того недотепний ! ну , сиди же ты здесь , — мной сама пойду нарубаю .\n",
      "src: — е, бісів сину, й того недотепний! ну, сиди ж ти тут, — я сама піду нарубаю.\n",
      "dst: — ьн , бесов сыну , и того недотепний ! ну , сиди же ты здесь , — мной сама пойду нарубаю .\n",
      "\n",
      "и и пошла .\n",
      "src: та й пішла.\n",
      "dst: и и пошла .\n",
      "\n",
      "из сидит волк сам себе — так кушать хочется ! он думал - думал : « давай , — говорит , — со ’ им бычка и и побег ! » из взял проїв дыру во бычка , со середины всё виїв , а туда воробьёв напустил и соломой заткнул , а сам — деру ... приходит лисичка , сделала санки , присела ...\n",
      "src: от сидить вовк сам собі — так їсти хочеться! він думав - думав: « давай, — каже, — з’їм бичка та й утечу! » от взяв проїв дірку у бичка, із середини все виїв, а туди горобців напустив і соломою заткнув, а сам — драла... приходить лисичка, зробила санчата, сіла...\n",
      "dst: из сидит волк сам себе — так кушать хочется ! он думал - думал : « давай , — говорит , — со ’ им бычка и и побег ! » из взял проїв дыру во бычка , со середины всё виїв , а туда воробьёв напустил и соломой заткнул , а сам — деру ... приходит лисичка , сделала санки , присела ...\n",
      "\n",
      "— гей , бычок - третячок !\n",
      "src: — гей, бичок - третячок!\n",
      "dst: — гей , бычок - третячок !\n",
      "\n",
      "аж бычок не увозит . она его хлыстом . как ударила , а віхоть соломы и выпал ; а воробьи — хррр !\n",
      "src: аж бичок не везе. вона його батогом. як ударила, а віхоть соломи й випав; а горобці — хррр!\n",
      "dst: аж бычок не увозит . она его хлыстом . как ударила , а віхоть соломы и выпал ; а воробьи — хррр !\n",
      "\n",
      "— а , сякий - такой вовчик ! постой то , — говорит , — мной тебе вспомню !\n",
      "src: — а, сякий - такий вовчик! постій же, — каже, — я тобі згадаю!\n",
      "dst: — а , сякий - такой вовчик ! постой то , — говорит , — мной тебе вспомню !\n",
      "\n",
      "и и пошла ...\n",
      "src: та й пішла...\n",
      "dst: и и пошла ...\n",
      "\n",
      "легла по пути и и лежит . идут казаки со рыбой ; она притаїлась , языки неживая . казаки смотрят — аж лисица :\n",
      "src: лягла на шляху та й лежить. ідуть чумаки з рибою; вона притаїлась, мов нежива. чумаки дивляться — аж лисиця:\n",
      "dst: легла по пути и и лежит . идут казаки со рыбой ; она притаїлась , языки неживая . казаки смотрят — аж лисица :\n",
      "\n",
      "— візьмім , — дескать , — бра , и продадим — будет за что хоть погреться !\n",
      "src: — візьмім, — кажуть, — бра, та продамо — буде за що хоч погрітися!\n",
      "dst: — візьмім , — дескать , — бра , и продадим — будет за что хоть погреться !\n",
      "\n",
      "сбросили ей по последний визы и и поехали . идут и и едут . а лисичка - сестричка видит , что они не смотрят , и всё кида по рыбки по дорогу , всё кида ... из как навязала уже много , тогда втихаря и сама слезла . казаки же поехали себе дальше , а она позбирала рыбку , присела и и ест .\n",
      "src: скинули її на останній віз та й поїхали. ідуть та й їдуть. а лисичка - сестричка бачить, що вони не дивляться, та все кида по рибці на дорогу, все кида... от як накидала вже багато, тоді нишком і сама злізла. чумаки ж поїхали собі далі, а вона позбирала рибку, сіла та й їсть.\n",
      "dst: сбросили ей по последний визы и и поехали . идут и и едут . а лисичка - сестричка видит , что они не смотрят , и всё кида по рыбки по дорогу , всё кида ... из как навязала уже много , тогда втихаря и сама слезла . казаки же поехали себе дальше , а она позбирала рыбку , присела и и ест .\n",
      "\n",
      "когда оно бежит вовчик :\n",
      "src: коли це біжить вовчик:\n",
      "dst: когда оно бежит вовчик :\n",
      "\n",
      "— здоровая была , лисичко - сестричка !\n",
      "src: — здорова була, лисичко - сестричко!\n",
      "dst: — здоровая была , лисичко - сестричка !\n",
      "\n",
      "— здоровье , вовчику - братику !\n",
      "src: — здоров, вовчику - братику!\n",
      "dst: — здоровье , вовчику - братику !\n",
      "\n",
      "— что ты делаешь , лисичко - сестричка ?\n",
      "src: — що ти робиш, лисичко - сестричко?\n",
      "dst: — что ты делаешь , лисичко - сестричка ?\n",
      "\n",
      "— рыбу , — говорит , — им .\n",
      "src: — рибу, — каже, — їм.\n",
      "dst: — рыбу , — говорит , — им .\n",
      "\n",
      "— дай то и мне !\n",
      "src: — дай же й мені!\n",
      "dst: — дай то и мне !\n",
      "\n",
      "— пойди себе налови .\n",
      "src: — піди собі налови.\n",
      "dst: — пойди себе налови .\n",
      "\n",
      "— так как то мной наловлю , когда мной не умею ?\n",
      "src: — так як же я наловлю, коли я не вмію?\n",
      "dst: — так как то мной наловлю , когда мной не умею ?\n",
      "\n",
      "— ну , как знаешь , а мной не дам и косточки !\n",
      "src: — ну, як знаєш, а я не дам і кісточки!\n",
      "dst: — ну , как знаешь , а мной не дам и косточки !\n",
      "\n",
      "— так хоть научить меня , как наловить .\n",
      "src: — так хоч навчи мене, як наловить.\n",
      "dst: — так хоть научить меня , как наловить .\n",
      "\n",
      "а лисичка и дума : « постой то ! ты моего бычка - третячка со ’ ел — мной теперь тебе оддячу ! »\n",
      "src: а лисичка й дума: « постій же! ти мого бичка - третячка з’їв — я тепер тобі оддячу! »\n",
      "dst: а лисичка и дума : « постой то ! ты моего бычка - третячка со ’ ел — мной теперь тебе оддячу ! »\n",
      "\n",
      "— а так , — говорит , — пойди к проруби , устроми во прорубь хвост и потихоньку воды ним и приказуй : « ловись , рыбка , имела и большая ! ловись , рыбка , имела и большая ! » то она и наловиться .\n",
      "src: — а так, — каже, — піди до ополонки, устроми в ополонку хвіст та потихеньку води ним і приказуй: « ловись, рибко, мала й велика! ловись, рибко, мала й велика! » то вона й наловиться.\n",
      "dst: — а так , — говорит , — пойди к проруби , устроми во прорубь хвост и потихоньку воды ним и приказуй : « ловись , рыбка , имела и большая ! ловись , рыбка , имела и большая ! » то она и наловиться .\n",
      "\n",
      "— ну , спасибо за науку ! — говорит вовчик .\n",
      "src: — ну, спасибі за науку! — каже вовчик.\n",
      "dst: — ну , спасибо за науку ! — говорит вовчик .\n",
      "\n",
      "из прибегает вовчик к проруби , устромив во прорубь хвост :\n",
      "src: от прибігає вовчик до ополонки, устромив в ополонку хвіст:\n",
      "dst: из прибегает вовчик к проруби , устромив во прорубь хвост :\n",
      "\n",
      "— ловись , — говорит , — рыбка , имела и большая !\n",
      "src: — ловись, — каже, — рибко, мала й велика!\n",
      "dst: — ловись , — говорит , — рыбка , имела и большая !\n",
      "\n",
      "а лисичка со камыша :\n",
      "src: а лисичка з очерету:\n",
      "dst: а лисичка со камыша :\n",
      "\n",
      "— мерзни , мерзни , волчий хвост !\n",
      "src: — мерзни, мерзни, вовчий хвіст!\n",
      "dst: — мерзни , мерзни , волчий хвост !\n",
      "\n",
      "а мороз дворе такой , что аж шкварчить ! вовчик хвостиком всё водит и :\n",
      "src: а мороз надворі такий, що аж шкварчить! вовчик хвостиком усе водить та:\n",
      "dst: а мороз дворе такой , что аж шкварчить ! вовчик хвостиком всё водит и :\n",
      "\n",
      "— ловись , рыбка , имела и большая !\n",
      "src: — ловись, рибко, мала й велика!\n",
      "dst: — ловись , рыбка , имела и большая !\n",
      "\n"
     ]
    },
    {
     "name": "stdout",
     "output_type": "stream",
     "text": [
      "а лисичка :\n",
      "src: а лисичка:\n",
      "dst: а лисичка :\n",
      "\n",
      "— мерзни , мерзни , волчий хвост !\n",
      "src: — мерзни, мерзни, вовчий хвіст!\n",
      "dst: — мерзни , мерзни , волчий хвост !\n",
      "\n",
      "пока ловил вовчик рыбу , пока хвост так и пугаясь во проруби ! тогда лисичка во село :\n",
      "src: поки ловив вовчик рибу, поки хвіст так і прикипів в ополонці! тоді лисичка в село:\n",
      "dst: пока ловил вовчик рыбу , пока хвост так и пугаясь во проруби ! тогда лисичка во село :\n",
      "\n",
      "— идите , люди , волка мочь !\n",
      "src: — ідіть, люди, вовка бить!\n",
      "dst: — идите , люди , волка мочь !\n",
      "\n",
      "люди как вискочать — со кочергами , со рогачами , со топорами : убили того волка и пропал бедный ! а лисичка и сих живет во своей хате .\n",
      "src: люди як вискочать — з кочергами, з рогачами, із сокирами: вбили того вовка і пропав бідний! а лисичка й досі живе у своїй хатці.\n",
      "dst: люди как вискочать — со кочергами , со рогачами , со топорами : убили того волка и пропал бедный ! а лисичка и сих живет во своей хате .\n",
      "\n"
     ]
    }
   ],
   "source": [
    "for sentence in uk_sentences:\n",
    "    print(\"src: {}\\ndst: {}\\n\".format(sentence, translate(sentence)))"
   ]
  },
  {
   "cell_type": "markdown",
   "metadata": {},
   "source": [
    "Not so bad, right? We can easily improve translation using language model and not one but several nearest neighbours in shared embedding space. But next time."
   ]
  },
  {
   "cell_type": "markdown",
   "metadata": {},
   "source": [
    "## Would you like to learn more?\n",
    "\n",
    "### Articles:\n",
    "* [Exploiting Similarities among Languages for Machine Translation](https://arxiv.org/pdf/1309.4168)  - entry point for multilingual embedding studies by Tomas Mikolov (the author of W2V)\n",
    "* [Offline bilingual word vectors, orthogonal transformations and the inverted softmax](https://arxiv.org/pdf/1702.03859) - orthogonal transform for unsupervised MT\n",
    "* [Word Translation Without Parallel Data](https://arxiv.org/pdf/1710.04087)\n",
    "* [Loss in Translation: Learning Bilingual Word Mapping with a Retrieval Criterion](https://arxiv.org/pdf/1804.07745)\n",
    "* [Unsupervised Alignment of Embeddings with Wasserstein Procrustes](https://arxiv.org/pdf/1805.11222)\n",
    "\n",
    "### Repos (with ready-to-use multilingual embeddings):\n",
    "* https://github.com/facebookresearch/MUSE\n",
    "\n",
    "* https://github.com/Babylonpartners/fastText_multilingual -"
   ]
  }
 ],
 "metadata": {
  "kernelspec": {
   "display_name": "Python 3 (ipykernel)",
   "language": "python",
   "name": "python3"
  },
  "language_info": {
   "codemirror_mode": {
    "name": "ipython",
    "version": 3
   },
   "file_extension": ".py",
   "mimetype": "text/x-python",
   "name": "python",
   "nbconvert_exporter": "python",
   "pygments_lexer": "ipython3",
   "version": "3.9.7"
  }
 },
 "nbformat": 4,
 "nbformat_minor": 2
}
