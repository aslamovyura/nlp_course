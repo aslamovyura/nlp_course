{
 "cells": [
  {
   "cell_type": "code",
   "execution_count": 2,
   "id": "6fed133d-61b7-4ce6-8a44-fe98acf0eed2",
   "metadata": {},
   "outputs": [],
   "source": [
    "%%capture\n",
    "!pip install transformers"
   ]
  },
  {
   "cell_type": "code",
   "execution_count": 3,
   "id": "2f3a8fd1-25a9-426d-a6be-c93b750cbcb8",
   "metadata": {},
   "outputs": [
    {
     "name": "stderr",
     "output_type": "stream",
     "text": [
      "/home/tfsservices/miniconda3/envs/nlp_test/lib/python3.10/site-packages/tqdm/auto.py:21: TqdmWarning: IProgress not found. Please update jupyter and ipywidgets. See https://ipywidgets.readthedocs.io/en/stable/user_install.html\n",
      "  from .autonotebook import tqdm as notebook_tqdm\n"
     ]
    }
   ],
   "source": [
    "import pandas as pd\n",
    "import torch\n",
    "import numpy as np\n",
    "from transformers import BertTokenizer, BertModel\n",
    "from torch import nn\n",
    "from torch.optim import Adam\n",
    "from tqdm import tqdm\n",
    "\n",
    "from sklearn.utils import shuffle"
   ]
  },
  {
   "cell_type": "code",
   "execution_count": 4,
   "id": "47a53036-31ab-4374-bf15-a4dca17a7cbf",
   "metadata": {},
   "outputs": [
    {
     "data": {
      "text/html": [
       "<div>\n",
       "<style scoped>\n",
       "    .dataframe tbody tr th:only-of-type {\n",
       "        vertical-align: middle;\n",
       "    }\n",
       "\n",
       "    .dataframe tbody tr th {\n",
       "        vertical-align: top;\n",
       "    }\n",
       "\n",
       "    .dataframe thead th {\n",
       "        text-align: right;\n",
       "    }\n",
       "</style>\n",
       "<table border=\"1\" class=\"dataframe\">\n",
       "  <thead>\n",
       "    <tr style=\"text-align: right;\">\n",
       "      <th></th>\n",
       "      <th>intent</th>\n",
       "      <th>utterance</th>\n",
       "    </tr>\n",
       "  </thead>\n",
       "  <tbody>\n",
       "    <tr>\n",
       "      <th>0</th>\n",
       "      <td>Accept</td>\n",
       "      <td>$ 950k - $ 1.3 m is okay.</td>\n",
       "    </tr>\n",
       "    <tr>\n",
       "      <th>1</th>\n",
       "      <td>Accept</td>\n",
       "      <td>$1.2m is a pretty good offer.</td>\n",
       "    </tr>\n",
       "    <tr>\n",
       "      <th>2</th>\n",
       "      <td>Accept</td>\n",
       "      <td>$7k for the system including the pump works fo...</td>\n",
       "    </tr>\n",
       "    <tr>\n",
       "      <th>3</th>\n",
       "      <td>Accept</td>\n",
       "      <td>€12,000 is good.</td>\n",
       "    </tr>\n",
       "    <tr>\n",
       "      <th>4</th>\n",
       "      <td>Accept</td>\n",
       "      <td>1,550,000.00 usd is approved.</td>\n",
       "    </tr>\n",
       "  </tbody>\n",
       "</table>\n",
       "</div>"
      ],
      "text/plain": [
       "   intent                                          utterance\n",
       "0  Accept                          $ 950k - $ 1.3 m is okay.\n",
       "1  Accept                      $1.2m is a pretty good offer.\n",
       "2  Accept  $7k for the system including the pump works fo...\n",
       "3  Accept                                   €12,000 is good.\n",
       "4  Accept                      1,550,000.00 usd is approved."
      ]
     },
     "execution_count": 4,
     "metadata": {},
     "output_type": "execute_result"
    }
   ],
   "source": [
    "datapath = f'intents.csv'\n",
    "# datapath = f'intents-without-none.csv'\n",
    "df = pd.read_csv(datapath)\n",
    "df.head()\n"
   ]
  },
  {
   "cell_type": "code",
   "execution_count": 5,
   "id": "c5fa5e12",
   "metadata": {},
   "outputs": [],
   "source": [
    "labels = {\n",
    "    'Accept':0,\n",
    "    'AskForEquipmentInstallation':1,\n",
    "    'AskForInterest':2,\n",
    "    'AskForPrice':3,\n",
    "    'AskIfBuy':4,\n",
    "    'AskIfHaveEquipment':5,\n",
    "    'AskIfSell':6,\n",
    "    'Decline':7,\n",
    "    'DeclinePrice':8,\n",
    "    'DeclineToBuy':9,\n",
    "    'DeclineToSell':10,\n",
    "    'DoNotHaveEquipment':11,\n",
    "    'HaveDeinstalledEquipment':12,\n",
    "    'HaveEquipment':13,\n",
    "    'HaveInstalledEquipment':14,\n",
    "    'None':15,\n",
    "    'OfferPrice':16,\n",
    "    'WantDeal':17,\n",
    "    'WantToBuy':18,\n",
    "    'WantToSell':19\n",
    "}\n",
    "\n",
    "ids_to_labels = {v: k for v, k in enumerate(labels)}"
   ]
  },
  {
   "cell_type": "code",
   "execution_count": 6,
   "id": "08a34381",
   "metadata": {},
   "outputs": [
    {
     "data": {
      "text/html": [
       "<div>\n",
       "<style scoped>\n",
       "    .dataframe tbody tr th:only-of-type {\n",
       "        vertical-align: middle;\n",
       "    }\n",
       "\n",
       "    .dataframe tbody tr th {\n",
       "        vertical-align: top;\n",
       "    }\n",
       "\n",
       "    .dataframe thead th {\n",
       "        text-align: right;\n",
       "    }\n",
       "</style>\n",
       "<table border=\"1\" class=\"dataframe\">\n",
       "  <thead>\n",
       "    <tr style=\"text-align: right;\">\n",
       "      <th></th>\n",
       "      <th>intent</th>\n",
       "      <th>utterance</th>\n",
       "    </tr>\n",
       "  </thead>\n",
       "  <tbody>\n",
       "    <tr>\n",
       "      <th>6169</th>\n",
       "      <td>WantToBuy</td>\n",
       "      <td>would love to buy this.</td>\n",
       "    </tr>\n",
       "    <tr>\n",
       "      <th>6272</th>\n",
       "      <td>WantToSell</td>\n",
       "      <td>is releasing hitachi s-3200n.</td>\n",
       "    </tr>\n",
       "    <tr>\n",
       "      <th>3581</th>\n",
       "      <td>None</td>\n",
       "      <td>i spoke with him finally yesterday.</td>\n",
       "    </tr>\n",
       "    <tr>\n",
       "      <th>2055</th>\n",
       "      <td>DoNotHaveEquipment</td>\n",
       "      <td>no board handlers.</td>\n",
       "    </tr>\n",
       "    <tr>\n",
       "      <th>3174</th>\n",
       "      <td>None</td>\n",
       "      <td>he has people in japan.</td>\n",
       "    </tr>\n",
       "  </tbody>\n",
       "</table>\n",
       "</div>"
      ],
      "text/plain": [
       "                  intent                            utterance\n",
       "6169           WantToBuy              would love to buy this.\n",
       "6272          WantToSell        is releasing hitachi s-3200n.\n",
       "3581                None  i spoke with him finally yesterday.\n",
       "2055  DoNotHaveEquipment                   no board handlers.\n",
       "3174                None              he has people in japan."
      ]
     },
     "execution_count": 6,
     "metadata": {},
     "output_type": "execute_result"
    }
   ],
   "source": [
    "df = shuffle(df)\n",
    "df.head()"
   ]
  },
  {
   "cell_type": "code",
   "execution_count": 7,
   "id": "ab965eff-e1eb-416f-b80c-850554d8026c",
   "metadata": {},
   "outputs": [
    {
     "data": {
      "text/plain": [
       "<Axes: xlabel='intent'>"
      ]
     },
     "execution_count": 7,
     "metadata": {},
     "output_type": "execute_result"
    },
    {
     "data": {
      "image/png": "[encoded data removed]",
      "text/plain": [
       "<Figure size 640x480 with 1 Axes>"
      ]
     },
     "metadata": {},
     "output_type": "display_data"
    }
   ],
   "source": [
    "df.groupby(['intent']).size().plot.bar()"
   ]
  },
  {
   "cell_type": "code",
   "execution_count": 8,
   "id": "5074c270-ed3e-4e1a-863d-71737c743cb8",
   "metadata": {},
   "outputs": [],
   "source": [
    "tokenizer = BertTokenizer.from_pretrained('bert-base-cased')\n"
   ]
  },
  {
   "cell_type": "code",
   "execution_count": 9,
   "id": "ddbd7d51",
   "metadata": {},
   "outputs": [],
   "source": [
    "class Dataset(torch.utils.data.Dataset):\n",
    "\n",
    "    def __init__(self, df):\n",
    "\n",
    "        self.labels = [labels[label] for label in df['intent']]\n",
    "        self.texts = [\n",
    "            tokenizer(text, \n",
    "                      padding='max_length', max_length = 512, truncation=True,\n",
    "                      return_tensors=\"pt\") for text in df['utterance']]\n",
    "\n",
    "    def classes(self):\n",
    "        return self.labels\n",
    "\n",
    "    def __len__(self):\n",
    "        return len(self.labels)\n",
    "\n",
    "    def get_batch_labels(self, idx):\n",
    "        # Fetch a batch of labels\n",
    "        return np.array(self.labels[idx])\n",
    "\n",
    "    def get_batch_texts(self, idx):\n",
    "        # Fetch a batch of inputs\n",
    "        return self.texts[idx]\n",
    "\n",
    "    def __getitem__(self, idx):\n",
    "\n",
    "        batch_texts = self.get_batch_texts(idx)\n",
    "        batch_y = self.get_batch_labels(idx)\n",
    "\n",
    "        return batch_texts, batch_y"
   ]
  },
  {
   "cell_type": "code",
   "execution_count": 10,
   "id": "0c8a5d0f-80c3-42b3-9f06-ecfc3a21f395",
   "metadata": {},
   "outputs": [],
   "source": [
    "class BertClassifier(nn.Module):\n",
    "\n",
    "    def __init__(self, dropout=0.5):\n",
    "\n",
    "        super(BertClassifier, self).__init__()\n",
    "\n",
    "        self.bert = BertModel.from_pretrained('bert-base-cased')\n",
    "        self.dropout = nn.Dropout(dropout)\n",
    "        # self.linear = nn.Linear(768, 19)\n",
    "        self.linear = nn.Linear(768, len(labels))\n",
    "        self.relu = nn.ReLU()\n",
    "\n",
    "    def forward(self, input_id, mask):\n",
    "\n",
    "        _, pooled_output = self.bert(input_ids= input_id, attention_mask=mask,return_dict=False)\n",
    "        dropout_output = self.dropout(pooled_output)\n",
    "        linear_output = self.linear(dropout_output)\n",
    "        final_layer = self.relu(linear_output)\n",
    "\n",
    "        return final_layer"
   ]
  },
  {
   "cell_type": "code",
   "execution_count": 11,
   "id": "fa1f1cf7-65db-4966-9a55-ba26bd22ed6c",
   "metadata": {},
   "outputs": [],
   "source": [
    "def train(model, train_data, val_data, learning_rate, epochs, batch_size):\n",
    "\n",
    "    train, val = Dataset(train_data), Dataset(val_data)\n",
    "\n",
    "    train_dataloader = torch.utils.data.DataLoader(train, batch_size=batch_size, shuffle=True)\n",
    "    val_dataloader = torch.utils.data.DataLoader(val, batch_size=batch_size)\n",
    "\n",
    "    use_cuda = torch.cuda.is_available()\n",
    "    device = torch.device(\"cuda\" if use_cuda else \"cpu\")\n",
    "\n",
    "    criterion = nn.CrossEntropyLoss()\n",
    "    optimizer = Adam(model.parameters(), lr= learning_rate)\n",
    "\n",
    "    if use_cuda:\n",
    "\n",
    "            model = model.cuda()\n",
    "            criterion = criterion.cuda()\n",
    "\n",
    "    for epoch_num in range(epochs):\n",
    "\n",
    "            total_acc_train = 0\n",
    "            total_loss_train = 0\n",
    "\n",
    "            for train_input, train_label in tqdm(train_dataloader):\n",
    "\n",
    "                train_label = train_label.to(device)\n",
    "                mask = train_input['attention_mask'].to(device)\n",
    "                input_id = train_input['input_ids'].squeeze(1).to(device)\n",
    "\n",
    "                output = model(input_id, mask)\n",
    "                \n",
    "                batch_loss = criterion(output, train_label.long())\n",
    "                total_loss_train += batch_loss.item()\n",
    "                \n",
    "                acc = (output.argmax(dim=1) == train_label).sum().item()\n",
    "                total_acc_train += acc\n",
    "\n",
    "                model.zero_grad()\n",
    "                batch_loss.backward()\n",
    "                optimizer.step()\n",
    "            \n",
    "            total_acc_val = 0\n",
    "            total_loss_val = 0\n",
    "\n",
    "            with torch.no_grad():\n",
    "\n",
    "                for val_input, val_label in val_dataloader:\n",
    "\n",
    "                    val_label = val_label.to(device)\n",
    "                    mask = val_input['attention_mask'].to(device)\n",
    "                    input_id = val_input['input_ids'].squeeze(1).to(device)\n",
    "\n",
    "                    output = model(input_id, mask)\n",
    "\n",
    "                    batch_loss = criterion(output, val_label.long())\n",
    "                    total_loss_val += batch_loss.item()\n",
    "                    \n",
    "                    acc = (output.argmax(dim=1) == val_label).sum().item()\n",
    "                    total_acc_val += acc\n",
    "            \n",
    "            print(\n",
    "                f'Epochs: {epoch_num + 1} | Train Loss: {total_loss_train / len(train_data): .3f} | Train Accuracy: {total_acc_train / len(train_data): .3f} | Val Loss: {total_loss_val / len(val_data): .3f} | Val Accuracy: {total_acc_val / len(val_data): .3f}')\n"
   ]
  },
  {
   "cell_type": "code",
   "execution_count": 12,
   "id": "cd8a670d-c449-45fe-8f4c-9a5fb27855c1",
   "metadata": {},
   "outputs": [],
   "source": [
    "def evaluate(model, test_data, batch_size:int):\n",
    "\n",
    "    test = Dataset(test_data)\n",
    "\n",
    "    test_dataloader = torch.utils.data.DataLoader(test, batch_size=batch_size)\n",
    "\n",
    "    use_cuda = torch.cuda.is_available()\n",
    "    device = torch.device(\"cuda\" if use_cuda else \"cpu\")\n",
    "\n",
    "    if use_cuda:\n",
    "        model = model.cuda()\n",
    "\n",
    "    total_acc_test = 0\n",
    "    with torch.no_grad():\n",
    "\n",
    "        for test_input, test_label in test_dataloader:\n",
    "\n",
    "            test_label = test_label.to(device)\n",
    "            mask = test_input['attention_mask'].to(device)\n",
    "            input_id = test_input['input_ids'].squeeze(1).to(device)\n",
    "\n",
    "            output = model(input_id, mask)\n",
    "\n",
    "            acc = (output.argmax(dim=1) == test_label).sum().item()\n",
    "            total_acc_test += acc\n",
    "    \n",
    "    print(f'Test Accuracy: {total_acc_test / len(test_data): .3f}')"
   ]
  },
  {
   "cell_type": "code",
   "execution_count": 13,
   "id": "25d2231d-fef1-42cf-a73e-188cac932727",
   "metadata": {},
   "outputs": [
    {
     "name": "stdout",
     "output_type": "stream",
     "text": [
      "6342 65 65\n"
     ]
    }
   ],
   "source": [
    "np.random.seed(112)\n",
    "# df_train, df_val, df_test = np.split(df.sample(frac=1, random_state=42), [int(.8*len(df)), int(.9*len(df))])\n",
    "# df_train, df_val, df_test = np.split(df.sample(frac=1, random_state=42), [int(.98*len(df)), int(.99*len(df))])\n",
    "df_train, df_val, df_test = np.split(df.sample(frac=1, random_state=42), [int(.98*len(df)), int(.99*len(df))])\n",
    "\n",
    "print(len(df_train),len(df_val), len(df_test))"
   ]
  },
  {
   "cell_type": "code",
   "execution_count": 14,
   "id": "30242239-de70-4c03-8f56-9f5ade43518d",
   "metadata": {},
   "outputs": [
    {
     "name": "stderr",
     "output_type": "stream",
     "text": [
      "Some weights of the model checkpoint at bert-base-cased were not used when initializing BertModel: ['cls.predictions.bias', 'cls.seq_relationship.weight', 'cls.predictions.decoder.weight', 'cls.seq_relationship.bias', 'cls.predictions.transform.dense.bias', 'cls.predictions.transform.dense.weight', 'cls.predictions.transform.LayerNorm.bias', 'cls.predictions.transform.LayerNorm.weight']\n",
      "- This IS expected if you are initializing BertModel from the checkpoint of a model trained on another task or with another architecture (e.g. initializing a BertForSequenceClassification model from a BertForPreTraining model).\n",
      "- This IS NOT expected if you are initializing BertModel from the checkpoint of a model that you expect to be exactly identical (initializing a BertForSequenceClassification model from a BertForSequenceClassification model).\n",
      "100%|██████████| 3171/3171 [02:57<00:00, 17.87it/s]\n"
     ]
    },
    {
     "name": "stdout",
     "output_type": "stream",
     "text": [
      "Epochs: 1 | Train Loss:  1.215 | Train Accuracy:  0.340 | Val Loss:  1.118 | Val Accuracy:  0.431\n"
     ]
    },
    {
     "name": "stderr",
     "output_type": "stream",
     "text": [
      "100%|██████████| 3171/3171 [02:57<00:00, 17.84it/s]\n"
     ]
    },
    {
     "name": "stdout",
     "output_type": "stream",
     "text": [
      "Epochs: 2 | Train Loss:  0.953 | Train Accuracy:  0.491 | Val Loss:  1.012 | Val Accuracy:  0.446\n"
     ]
    },
    {
     "name": "stderr",
     "output_type": "stream",
     "text": [
      "100%|██████████| 3171/3171 [02:57<00:00, 17.88it/s]\n"
     ]
    },
    {
     "name": "stdout",
     "output_type": "stream",
     "text": [
      "Epochs: 3 | Train Loss:  0.767 | Train Accuracy:  0.598 | Val Loss:  0.806 | Val Accuracy:  0.600\n"
     ]
    },
    {
     "name": "stderr",
     "output_type": "stream",
     "text": [
      "100%|██████████| 3171/3171 [02:57<00:00, 17.90it/s]\n"
     ]
    },
    {
     "name": "stdout",
     "output_type": "stream",
     "text": [
      "Epochs: 4 | Train Loss:  0.594 | Train Accuracy:  0.718 | Val Loss:  0.663 | Val Accuracy:  0.723\n"
     ]
    },
    {
     "name": "stderr",
     "output_type": "stream",
     "text": [
      "100%|██████████| 3171/3171 [02:57<00:00, 17.89it/s]\n"
     ]
    },
    {
     "name": "stdout",
     "output_type": "stream",
     "text": [
      "Epochs: 5 | Train Loss:  0.446 | Train Accuracy:  0.823 | Val Loss:  0.548 | Val Accuracy:  0.769\n"
     ]
    },
    {
     "name": "stderr",
     "output_type": "stream",
     "text": [
      "100%|██████████| 3171/3171 [02:57<00:00, 17.89it/s]\n"
     ]
    },
    {
     "name": "stdout",
     "output_type": "stream",
     "text": [
      "Epochs: 6 | Train Loss:  0.325 | Train Accuracy:  0.886 | Val Loss:  0.447 | Val Accuracy:  0.831\n"
     ]
    },
    {
     "name": "stderr",
     "output_type": "stream",
     "text": [
      "100%|██████████| 3171/3171 [02:57<00:00, 17.89it/s]\n"
     ]
    },
    {
     "name": "stdout",
     "output_type": "stream",
     "text": [
      "Epochs: 7 | Train Loss:  0.233 | Train Accuracy:  0.928 | Val Loss:  0.342 | Val Accuracy:  0.862\n"
     ]
    },
    {
     "name": "stderr",
     "output_type": "stream",
     "text": [
      "100%|██████████| 3171/3171 [02:57<00:00, 17.91it/s]\n"
     ]
    },
    {
     "name": "stdout",
     "output_type": "stream",
     "text": [
      "Epochs: 8 | Train Loss:  0.157 | Train Accuracy:  0.960 | Val Loss:  0.363 | Val Accuracy:  0.831\n"
     ]
    },
    {
     "name": "stderr",
     "output_type": "stream",
     "text": [
      "  8%|▊         | 239/3171 [00:13<02:44, 17.85it/s]\n"
     ]
    },
    {
     "ename": "KeyboardInterrupt",
     "evalue": "",
     "output_type": "error",
     "traceback": [
      "\u001b[0;31m---------------------------------------------------------------------------\u001b[0m",
      "\u001b[0;31mKeyboardInterrupt\u001b[0m                         Traceback (most recent call last)",
      "Cell \u001b[0;32mIn[14], line 6\u001b[0m\n\u001b[1;32m      3\u001b[0m BATCH_SIZE \u001b[39m=\u001b[39m \u001b[39m2\u001b[39m\n\u001b[1;32m      5\u001b[0m model \u001b[39m=\u001b[39m BertClassifier()\n\u001b[0;32m----> 6\u001b[0m train(model, df_train, df_val, LR, EPOCHS, BATCH_SIZE)\n",
      "Cell \u001b[0;32mIn[11], line 39\u001b[0m, in \u001b[0;36mtrain\u001b[0;34m(model, train_data, val_data, learning_rate, epochs, batch_size)\u001b[0m\n\u001b[1;32m     36\u001b[0m     total_acc_train \u001b[39m+\u001b[39m\u001b[39m=\u001b[39m acc\n\u001b[1;32m     38\u001b[0m     model\u001b[39m.\u001b[39mzero_grad()\n\u001b[0;32m---> 39\u001b[0m     batch_loss\u001b[39m.\u001b[39;49mbackward()\n\u001b[1;32m     40\u001b[0m     optimizer\u001b[39m.\u001b[39mstep()\n\u001b[1;32m     42\u001b[0m total_acc_val \u001b[39m=\u001b[39m \u001b[39m0\u001b[39m\n",
      "File \u001b[0;32m~/miniconda3/envs/nlp_test/lib/python3.10/site-packages/torch/_tensor.py:487\u001b[0m, in \u001b[0;36mTensor.backward\u001b[0;34m(self, gradient, retain_graph, create_graph, inputs)\u001b[0m\n\u001b[1;32m    477\u001b[0m \u001b[39mif\u001b[39;00m has_torch_function_unary(\u001b[39mself\u001b[39m):\n\u001b[1;32m    478\u001b[0m     \u001b[39mreturn\u001b[39;00m handle_torch_function(\n\u001b[1;32m    479\u001b[0m         Tensor\u001b[39m.\u001b[39mbackward,\n\u001b[1;32m    480\u001b[0m         (\u001b[39mself\u001b[39m,),\n\u001b[0;32m   (...)\u001b[0m\n\u001b[1;32m    485\u001b[0m         inputs\u001b[39m=\u001b[39minputs,\n\u001b[1;32m    486\u001b[0m     )\n\u001b[0;32m--> 487\u001b[0m torch\u001b[39m.\u001b[39;49mautograd\u001b[39m.\u001b[39;49mbackward(\n\u001b[1;32m    488\u001b[0m     \u001b[39mself\u001b[39;49m, gradient, retain_graph, create_graph, inputs\u001b[39m=\u001b[39;49minputs\n\u001b[1;32m    489\u001b[0m )\n",
      "File \u001b[0;32m~/miniconda3/envs/nlp_test/lib/python3.10/site-packages/torch/autograd/__init__.py:200\u001b[0m, in \u001b[0;36mbackward\u001b[0;34m(tensors, grad_tensors, retain_graph, create_graph, grad_variables, inputs)\u001b[0m\n\u001b[1;32m    195\u001b[0m     retain_graph \u001b[39m=\u001b[39m create_graph\n\u001b[1;32m    197\u001b[0m \u001b[39m# The reason we repeat same the comment below is that\u001b[39;00m\n\u001b[1;32m    198\u001b[0m \u001b[39m# some Python versions print out the first line of a multi-line function\u001b[39;00m\n\u001b[1;32m    199\u001b[0m \u001b[39m# calls in the traceback and some print out the last line\u001b[39;00m\n\u001b[0;32m--> 200\u001b[0m Variable\u001b[39m.\u001b[39;49m_execution_engine\u001b[39m.\u001b[39;49mrun_backward(  \u001b[39m# Calls into the C++ engine to run the backward pass\u001b[39;49;00m\n\u001b[1;32m    201\u001b[0m     tensors, grad_tensors_, retain_graph, create_graph, inputs,\n\u001b[1;32m    202\u001b[0m     allow_unreachable\u001b[39m=\u001b[39;49m\u001b[39mTrue\u001b[39;49;00m, accumulate_grad\u001b[39m=\u001b[39;49m\u001b[39mTrue\u001b[39;49;00m)\n",
      "\u001b[0;31mKeyboardInterrupt\u001b[0m: "
     ]
    }
   ],
   "source": [
    "EPOCHS = 10\n",
    "LR = 1e-6\n",
    "BATCH_SIZE = 2\n",
    "\n",
    "model = BertClassifier()\n",
    "train(model, df_train, df_val, LR, EPOCHS, BATCH_SIZE)"
   ]
  },
  {
   "cell_type": "code",
   "execution_count": 15,
   "id": "ccc00f0a-9a15-4942-9c9b-2f9789c8dd22",
   "metadata": {},
   "outputs": [
    {
     "name": "stdout",
     "output_type": "stream",
     "text": [
      "Test Accuracy:  0.846\n"
     ]
    }
   ],
   "source": [
    "evaluate(model, df_test, BATCH_SIZE)"
   ]
  },
  {
   "cell_type": "code",
   "execution_count": 16,
   "id": "5ae122a5",
   "metadata": {},
   "outputs": [],
   "source": [
    "import json"
   ]
  },
  {
   "cell_type": "code",
   "execution_count": 17,
   "id": "30503c64",
   "metadata": {},
   "outputs": [],
   "source": [
    "def evaluate_one_text(model, sentence):\n",
    "\n",
    "    use_cuda = torch.cuda.is_available()\n",
    "    device = torch.device(\"cuda\" if use_cuda else \"cpu\")\n",
    "\n",
    "    if use_cuda:\n",
    "        model = model.cuda()\n",
    "\n",
    "    text = tokenizer(sentence, padding='max_length', max_length = 512, truncation=True, return_tensors=\"pt\")\n",
    "\n",
    "    mask = text['attention_mask'].to(device)\n",
    "    input_id = text['input_ids'].to(device)\n",
    "\n",
    "    output = model(input_id, mask)\n",
    "\n",
    "    with torch.no_grad():\n",
    "        # print(output[0])\n",
    "\n",
    "        probs = {ids_to_labels[i]:prob for i, prob in enumerate(torch.softmax(output[0], dim=-1).cpu().numpy())}\n",
    "        sorted_probs = {k: v for k, v in sorted(probs.items(), key=lambda item: item[1], reverse=True)}\n",
    "        print(sorted_probs)\n",
    "\n",
    "        # label_id = output.argmax(dim=1)[0].item()\n",
    "        # label = ids_to_labels[label_id]\n",
    "        # print(label)"
   ]
  },
  {
   "cell_type": "code",
   "execution_count": 18,
   "id": "4763b618",
   "metadata": {},
   "outputs": [
    {
     "name": "stdout",
     "output_type": "stream",
     "text": [
      "{'AskForPrice': 0.87793034, 'OfferPrice': 0.023116995, 'HaveInstalledEquipment': 0.0084340125, 'Accept': 0.007294896, 'None': 0.0068926928, 'AskIfSell': 0.006358399, 'WantDeal': 0.0060259937, 'DeclinePrice': 0.005961386, 'WantToSell': 0.00544438, 'AskIfBuy': 0.0053272154, 'AskForInterest': 0.004881418, 'DoNotHaveEquipment': 0.0048562954, 'AskForEquipmentInstallation': 0.004684488, 'AskIfHaveEquipment': 0.004684488, 'Decline': 0.004684488, 'DeclineToBuy': 0.004684488, 'DeclineToSell': 0.004684488, 'HaveDeinstalledEquipment': 0.004684488, 'HaveEquipment': 0.004684488, 'WantToBuy': 0.004684488}\n"
     ]
    }
   ],
   "source": [
    "evaluate_one_text(model, \"What is the price for this amat/applied materials unit.\")"
   ]
  },
  {
   "cell_type": "code",
   "execution_count": 19,
   "id": "ad8e6712",
   "metadata": {},
   "outputs": [
    {
     "name": "stdout",
     "output_type": "stream",
     "text": [
      "{'AskIfHaveEquipment': 0.7155939, 'AskIfBuy': 0.035149023, 'AskForEquipmentInstallation': 0.033871528, 'AskForInterest': 0.026417904, 'DoNotHaveEquipment': 0.02605449, 'AskIfSell': 0.021407254, 'HaveEquipment': 0.013339684, 'Decline': 0.012962977, 'None': 0.012009604, 'HaveDeinstalledEquipment': 0.011084783, 'AskForPrice': 0.009670952, 'DeclinePrice': 0.00965968, 'Accept': 0.009097273, 'DeclineToBuy': 0.009097273, 'DeclineToSell': 0.009097273, 'HaveInstalledEquipment': 0.009097273, 'OfferPrice': 0.009097273, 'WantDeal': 0.009097273, 'WantToBuy': 0.009097273, 'WantToSell': 0.009097273}\n"
     ]
    }
   ],
   "source": [
    "evaluate_one_text(model, \"Do you have this equipment?\")"
   ]
  },
  {
   "cell_type": "code",
   "execution_count": 20,
   "id": "3567415b",
   "metadata": {},
   "outputs": [
    {
     "name": "stdout",
     "output_type": "stream",
     "text": [
      "{'WantToBuy': 0.77064633, 'WantToSell': 0.046400234, 'WantDeal': 0.027831074, 'DeclineToBuy': 0.019905794, 'DeclinePrice': 0.013577436, 'HaveInstalledEquipment': 0.0113623245, 'Accept': 0.0094270315, 'AskIfBuy': 0.009304696, 'AskIfSell': 0.008376279, 'OfferPrice': 0.007767368, 'AskForEquipmentInstallation': 0.0075401287, 'AskForInterest': 0.0075401287, 'AskForPrice': 0.0075401287, 'AskIfHaveEquipment': 0.0075401287, 'Decline': 0.0075401287, 'DeclineToSell': 0.0075401287, 'DoNotHaveEquipment': 0.0075401287, 'HaveDeinstalledEquipment': 0.0075401287, 'HaveEquipment': 0.0075401287, 'None': 0.0075401287}\n"
     ]
    }
   ],
   "source": [
    "evaluate_one_text(model, \"I am going to buy it for my company.\")"
   ]
  },
  {
   "cell_type": "code",
   "execution_count": 21,
   "id": "2aa806a6",
   "metadata": {},
   "outputs": [
    {
     "name": "stdout",
     "output_type": "stream",
     "text": [
      "{'None': 0.97736883, 'AskForInterest': 0.0034101568, 'AskForPrice': 0.0022474593, 'AskIfHaveEquipment': 0.0018970915, 'Accept': 0.0016547564, 'WantDeal': 0.0012490745, 'AskForEquipmentInstallation': 0.001088749, 'Decline': 0.0010231821, 'AskIfBuy': 0.00086614804, 'AskIfSell': 0.000835869, 'DeclinePrice': 0.000835869, 'DeclineToBuy': 0.000835869, 'DeclineToSell': 0.000835869, 'DoNotHaveEquipment': 0.000835869, 'HaveDeinstalledEquipment': 0.000835869, 'HaveEquipment': 0.000835869, 'HaveInstalledEquipment': 0.000835869, 'OfferPrice': 0.000835869, 'WantToBuy': 0.000835869, 'WantToSell': 0.000835869}\n"
     ]
    }
   ],
   "source": [
    "evaluate_one_text(model, \"What is the whether today?\")"
   ]
  },
  {
   "cell_type": "code",
   "execution_count": 23,
   "id": "7df3c690",
   "metadata": {},
   "outputs": [
    {
     "name": "stdout",
     "output_type": "stream",
     "text": [
      "{'AskForPrice': 0.928882, 'AskForInterest': 0.019473763, 'AskIfBuy': 0.0051597855, 'Accept': 0.004756478, 'DeclinePrice': 0.004688959, 'AskIfSell': 0.0041833585, 'None': 0.0033416874, 'DoNotHaveEquipment': 0.0032726936, 'HaveInstalledEquipment': 0.0023867472, 'HaveEquipment': 0.00225272, 'AskForEquipmentInstallation': 0.002160187, 'AskIfHaveEquipment': 0.002160187, 'Decline': 0.002160187, 'DeclineToBuy': 0.002160187, 'DeclineToSell': 0.002160187, 'HaveDeinstalledEquipment': 0.002160187, 'OfferPrice': 0.002160187, 'WantDeal': 0.002160187, 'WantToBuy': 0.002160187, 'WantToSell': 0.002160187}\n"
     ]
    }
   ],
   "source": [
    "evaluate_one_text(model, \"price?\")"
   ]
  },
  {
   "cell_type": "code",
   "execution_count": 24,
   "id": "0fecd3de",
   "metadata": {},
   "outputs": [
    {
     "name": "stdout",
     "output_type": "stream",
     "text": [
      "{'None': 0.46456534, 'AskForInterest': 0.3589044, 'WantDeal': 0.02085898, 'Accept': 0.016223133, 'AskForPrice': 0.014868883, 'AskIfBuy': 0.014588483, 'AskForEquipmentInstallation': 0.011593876, 'AskIfHaveEquipment': 0.0115301665, 'HaveEquipment': 0.008184502, 'AskIfSell': 0.0075092996, 'WantToSell': 0.007505899, 'Decline': 0.0070741177, 'DeclinePrice': 0.0070741177, 'DeclineToBuy': 0.0070741177, 'DeclineToSell': 0.0070741177, 'DoNotHaveEquipment': 0.0070741177, 'HaveDeinstalledEquipment': 0.0070741177, 'HaveInstalledEquipment': 0.0070741177, 'OfferPrice': 0.0070741177, 'WantToBuy': 0.0070741177}\n"
     ]
    }
   ],
   "source": [
    "evaluate_one_text(model, \"good enough?\")"
   ]
  },
  {
   "cell_type": "code",
   "execution_count": 25,
   "id": "096ea2d2",
   "metadata": {},
   "outputs": [
    {
     "name": "stdout",
     "output_type": "stream",
     "text": [
      "{'AskIfSell': 0.21709855, 'AskForEquipmentInstallation': 0.21300681, 'AskIfHaveEquipment': 0.13903241, 'AskForInterest': 0.101318724, 'AskIfBuy': 0.06915638, 'AskForPrice': 0.048866913, 'OfferPrice': 0.030460024, 'HaveDeinstalledEquipment': 0.021107292, 'WantToSell': 0.0165179, 'Accept': 0.013039547, 'Decline': 0.013039547, 'DeclinePrice': 0.013039547, 'DeclineToBuy': 0.013039547, 'DeclineToSell': 0.013039547, 'DoNotHaveEquipment': 0.013039547, 'HaveEquipment': 0.013039547, 'HaveInstalledEquipment': 0.013039547, 'None': 0.013039547, 'WantDeal': 0.013039547, 'WantToBuy': 0.013039547}\n"
     ]
    }
   ],
   "source": [
    "evaluate_one_text(model, \"kla tencor?\")"
   ]
  },
  {
   "cell_type": "code",
   "execution_count": 26,
   "id": "4bf724f2",
   "metadata": {},
   "outputs": [
    {
     "name": "stdout",
     "output_type": "stream",
     "text": [
      "{'WantToSell': 0.3074497, 'HaveEquipment': 0.14781605, 'WantToBuy': 0.073141046, 'DeclineToSell': 0.058000557, 'OfferPrice': 0.04403818, 'DeclinePrice': 0.04151325, 'Accept': 0.035329748, 'AskIfSell': 0.03185199, 'DoNotHaveEquipment': 0.031572387, 'None': 0.03013954, 'HaveInstalledEquipment': 0.02894686, 'AskForEquipmentInstallation': 0.018911198, 'AskForInterest': 0.018911198, 'AskForPrice': 0.018911198, 'AskIfBuy': 0.018911198, 'AskIfHaveEquipment': 0.018911198, 'Decline': 0.018911198, 'DeclineToBuy': 0.018911198, 'HaveDeinstalledEquipment': 0.018911198, 'WantDeal': 0.018911198}\n"
     ]
    }
   ],
   "source": [
    "evaluate_one_text(model, \"kla tencor.\")"
   ]
  },
  {
   "cell_type": "code",
   "execution_count": 27,
   "id": "e1bc9bf8",
   "metadata": {},
   "outputs": [
    {
     "name": "stdout",
     "output_type": "stream",
     "text": [
      "{'None': 0.9052222, 'AskForInterest': 0.0313498, 'Decline': 0.006507385, 'AskForEquipmentInstallation': 0.0063748485, 'AskIfHaveEquipment': 0.0056049842, 'WantDeal': 0.005475396, 'AskForPrice': 0.004673873, 'DeclineToBuy': 0.0038081172, 'Accept': 0.0025819542, 'AskIfBuy': 0.0025819542, 'AskIfSell': 0.0025819542, 'DeclinePrice': 0.0025819542, 'DeclineToSell': 0.0025819542, 'DoNotHaveEquipment': 0.0025819542, 'HaveDeinstalledEquipment': 0.0025819542, 'HaveEquipment': 0.0025819542, 'HaveInstalledEquipment': 0.0025819542, 'OfferPrice': 0.0025819542, 'WantToBuy': 0.0025819542, 'WantToSell': 0.0025819542}\n"
     ]
    }
   ],
   "source": [
    "evaluate_one_text(model, \"do it?\")"
   ]
  },
  {
   "cell_type": "code",
   "execution_count": 28,
   "id": "c17a58ed",
   "metadata": {},
   "outputs": [
    {
     "name": "stdout",
     "output_type": "stream",
     "text": [
      "{'AskForEquipmentInstallation': 0.7826641, 'AskIfSell': 0.03436578, 'AskIfHaveEquipment': 0.024888279, 'DeclineToSell': 0.014696896, 'AskIfBuy': 0.013911255, 'HaveDeinstalledEquipment': 0.013652937, 'AskForInterest': 0.00913006, 'OfferPrice': 0.009072743, 'HaveEquipment': 0.008787502, 'None': 0.008513548, 'Accept': 0.008031688, 'AskForPrice': 0.008031688, 'Decline': 0.008031688, 'DeclinePrice': 0.008031688, 'DeclineToBuy': 0.008031688, 'DoNotHaveEquipment': 0.008031688, 'HaveInstalledEquipment': 0.008031688, 'WantDeal': 0.008031688, 'WantToBuy': 0.008031688, 'WantToSell': 0.008031688}\n"
     ]
    }
   ],
   "source": [
    "evaluate_one_text(model, \"is it still deinstalled?\")"
   ]
  },
  {
   "cell_type": "code",
   "execution_count": 29,
   "id": "86c260f5",
   "metadata": {},
   "outputs": [
    {
     "name": "stdout",
     "output_type": "stream",
     "text": [
      "{'HaveDeinstalledEquipment': 0.3117689, 'HaveInstalledEquipment': 0.09889904, 'HaveEquipment': 0.08805725, 'DeclineToSell': 0.0652029, 'WantToSell': 0.05262022, 'DeclineToBuy': 0.046810664, 'DoNotHaveEquipment': 0.038615946, 'WantToBuy': 0.029944621, 'OfferPrice': 0.02820212, 'None': 0.024586426, 'Accept': 0.0215292, 'AskForEquipmentInstallation': 0.0215292, 'AskForInterest': 0.0215292, 'AskForPrice': 0.0215292, 'AskIfBuy': 0.0215292, 'AskIfHaveEquipment': 0.0215292, 'AskIfSell': 0.0215292, 'Decline': 0.0215292, 'DeclinePrice': 0.0215292, 'WantDeal': 0.0215292}\n"
     ]
    }
   ],
   "source": [
    "evaluate_one_text(model, \"we are going to remove this unit from production next week.\")"
   ]
  },
  {
   "cell_type": "code",
   "execution_count": 30,
   "id": "7846e74e",
   "metadata": {},
   "outputs": [
    {
     "name": "stdout",
     "output_type": "stream",
     "text": [
      "{'None': 0.9880149, 'WantDeal': 0.0016548098, 'Decline': 0.0015076428, 'Accept': 0.0013216882, 'AskForInterest': 0.0009711102, 'DeclineToBuy': 0.00086875685, 'DoNotHaveEquipment': 0.0006758194, 'AskIfHaveEquipment': 0.0004148142, 'AskForPrice': 0.00040727423, 'AskForEquipmentInstallation': 0.00037848423, 'AskIfBuy': 0.00037848423, 'AskIfSell': 0.00037848423, 'DeclinePrice': 0.00037848423, 'DeclineToSell': 0.00037848423, 'HaveDeinstalledEquipment': 0.00037848423, 'HaveEquipment': 0.00037848423, 'HaveInstalledEquipment': 0.00037848423, 'OfferPrice': 0.00037848423, 'WantToBuy': 0.00037848423, 'WantToSell': 0.00037848423}\n"
     ]
    }
   ],
   "source": [
    "evaluate_one_text(model, \"next week.\")"
   ]
  },
  {
   "cell_type": "code",
   "execution_count": 31,
   "id": "13d1917b",
   "metadata": {},
   "outputs": [
    {
     "name": "stdout",
     "output_type": "stream",
     "text": [
      "{'OfferPrice': 0.8050674, 'DeclinePrice': 0.043331653, 'WantDeal': 0.026522988, 'Accept': 0.021000506, 'WantToBuy': 0.009999576, 'WantToSell': 0.009021949, 'AskIfSell': 0.0085871555, 'AskForPrice': 0.0067168144, 'AskForEquipmentInstallation': 0.006112825, 'Decline': 0.005915982, 'AskForInterest': 0.005772312, 'AskIfBuy': 0.005772312, 'AskIfHaveEquipment': 0.005772312, 'DeclineToBuy': 0.005772312, 'DeclineToSell': 0.005772312, 'DoNotHaveEquipment': 0.005772312, 'HaveDeinstalledEquipment': 0.005772312, 'HaveEquipment': 0.005772312, 'HaveInstalledEquipment': 0.005772312, 'None': 0.005772312}\n"
     ]
    }
   ],
   "source": [
    "evaluate_one_text(model, \"we can offer $ 70,000 for the picosun ald in an effort to try to come to an agreement this week .\")"
   ]
  },
  {
   "cell_type": "code",
   "execution_count": 32,
   "id": "72c774a1",
   "metadata": {},
   "outputs": [
    {
     "name": "stdout",
     "output_type": "stream",
     "text": [
      "{'DeclinePrice': 0.458032, 'OfferPrice': 0.3456582, 'WantToBuy': 0.020721454, 'DeclineToBuy': 0.01794207, 'HaveDeinstalledEquipment': 0.012771096, 'Accept': 0.011869908, 'DoNotHaveEquipment': 0.01055394, 'AskForEquipmentInstallation': 0.00941933, 'AskForInterest': 0.00941933, 'AskForPrice': 0.00941933, 'AskIfBuy': 0.00941933, 'AskIfHaveEquipment': 0.00941933, 'AskIfSell': 0.00941933, 'Decline': 0.00941933, 'DeclineToSell': 0.00941933, 'HaveEquipment': 0.00941933, 'HaveInstalledEquipment': 0.00941933, 'None': 0.00941933, 'WantDeal': 0.00941933, 'WantToSell': 0.00941933}\n"
     ]
    }
   ],
   "source": [
    "evaluate_one_text(model, \"$ 19k / ea is much beyond my budget even it is new .\")"
   ]
  },
  {
   "cell_type": "code",
   "execution_count": 33,
   "id": "ac4c6529",
   "metadata": {},
   "outputs": [
    {
     "name": "stdout",
     "output_type": "stream",
     "text": [
      "{'OfferPrice': 0.8750039, 'DeclinePrice': 0.03894349, 'Accept': 0.008771657, 'AskForPrice': 0.006042685, 'DoNotHaveEquipment': 0.0058640083, 'HaveInstalledEquipment': 0.0057974737, 'AskIfHaveEquipment': 0.0050947145, 'DeclineToBuy': 0.004916713, 'AskIfSell': 0.0043785004, 'HaveEquipment': 0.0041912934, 'WantToBuy': 0.0041264826, 'AskForEquipmentInstallation': 0.0040965592, 'AskForInterest': 0.0040965592, 'AskIfBuy': 0.0040965592, 'Decline': 0.0040965592, 'DeclineToSell': 0.0040965592, 'HaveDeinstalledEquipment': 0.0040965592, 'None': 0.0040965592, 'WantDeal': 0.0040965592, 'WantToSell': 0.0040965592}\n"
     ]
    }
   ],
   "source": [
    "evaluate_one_text(model, \"my customer budget for candella candela cs20r is 125k based on working condition mike .\")"
   ]
  },
  {
   "cell_type": "code",
   "execution_count": 34,
   "id": "92fa87ff",
   "metadata": {},
   "outputs": [
    {
     "name": "stdout",
     "output_type": "stream",
     "text": [
      "{'HaveEquipment': 0.6787693, 'None': 0.06630386, 'WantToBuy': 0.055241153, 'HaveInstalledEquipment': 0.028903458, 'WantToSell': 0.017660655, 'DeclineToBuy': 0.015195864, 'AskIfHaveEquipment': 0.014255892, 'DoNotHaveEquipment': 0.013900739, 'Accept': 0.010701824, 'WantDeal': 0.0103576025, 'AskForEquipmentInstallation': 0.008870973, 'AskForInterest': 0.008870973, 'AskForPrice': 0.008870973, 'AskIfBuy': 0.008870973, 'AskIfSell': 0.008870973, 'Decline': 0.008870973, 'DeclinePrice': 0.008870973, 'DeclineToSell': 0.008870973, 'HaveDeinstalledEquipment': 0.008870973, 'OfferPrice': 0.008870973}\n"
     ]
    }
   ],
   "source": [
    "evaluate_one_text(model, \"we have a dual turn with gantry loader already .\")"
   ]
  },
  {
   "cell_type": "code",
   "execution_count": 35,
   "id": "c332e747",
   "metadata": {},
   "outputs": [
    {
     "name": "stdout",
     "output_type": "stream",
     "text": [
      "{'None': 0.95788217, 'WantDeal': 0.0064416113, 'Accept': 0.0055891047, 'HaveEquipment': 0.0026963954, 'AskForInterest': 0.0021464126, 'HaveInstalledEquipment': 0.0021373157, 'WantToBuy': 0.0019657295, 'Decline': 0.0017855184, 'AskForPrice': 0.0016936002, 'AskForEquipmentInstallation': 0.0016056527, 'AskIfBuy': 0.0016056527, 'AskIfHaveEquipment': 0.0016056527, 'AskIfSell': 0.0016056527, 'DeclinePrice': 0.0016056527, 'DeclineToBuy': 0.0016056527, 'DeclineToSell': 0.0016056527, 'DoNotHaveEquipment': 0.0016056527, 'HaveDeinstalledEquipment': 0.0016056527, 'OfferPrice': 0.0016056527, 'WantToSell': 0.0016056527}\n"
     ]
    }
   ],
   "source": [
    "evaluate_one_text(model, \"but it is still being used not heavily but still being used w / back side alignment .\") "
   ]
  },
  {
   "cell_type": "code",
   "execution_count": 36,
   "id": "f914ccef",
   "metadata": {},
   "outputs": [
    {
     "name": "stdout",
     "output_type": "stream",
     "text": [
      "{'DeclineToBuy': 0.39440435, 'WantToBuy': 0.09077857, 'DoNotHaveEquipment': 0.07007594, 'DeclineToSell': 0.052167118, 'Accept': 0.046616547, 'WantToSell': 0.04427364, 'AskIfSell': 0.04102678, 'DeclinePrice': 0.033389885, 'AskForEquipmentInstallation': 0.018938933, 'AskForInterest': 0.018938933, 'AskForPrice': 0.018938933, 'AskIfBuy': 0.018938933, 'AskIfHaveEquipment': 0.018938933, 'Decline': 0.018938933, 'HaveDeinstalledEquipment': 0.018938933, 'HaveEquipment': 0.018938933, 'HaveInstalledEquipment': 0.018938933, 'None': 0.018938933, 'OfferPrice': 0.018938933, 'WantDeal': 0.018938933}\n"
     ]
    }
   ],
   "source": [
    "evaluate_one_text(model, \"We do not have approval to purchase anything yet\")"
   ]
  },
  {
   "cell_type": "code",
   "execution_count": 37,
   "id": "e399ca45",
   "metadata": {},
   "outputs": [
    {
     "name": "stdout",
     "output_type": "stream",
     "text": [
      "{'AskIfBuy': 0.40539405, 'WantToBuy': 0.15079449, 'AskIfHaveEquipment': 0.056698907, 'OfferPrice': 0.048500527, 'DeclineToBuy': 0.033242956, 'DeclinePrice': 0.027137954, 'HaveInstalledEquipment': 0.022355612, 'AskIfSell': 0.021021193, 'DeclineToSell': 0.020554036, 'HaveEquipment': 0.020016804, 'AskForEquipmentInstallation': 0.01991136, 'HaveDeinstalledEquipment': 0.01963216, 'Accept': 0.019342504, 'AskForInterest': 0.019342504, 'AskForPrice': 0.019342504, 'Decline': 0.019342504, 'DoNotHaveEquipment': 0.019342504, 'None': 0.019342504, 'WantDeal': 0.019342504, 'WantToSell': 0.019342504}\n"
     ]
    }
   ],
   "source": [
    "evaluate_one_text(model, \"who needs this equipment\")"
   ]
  },
  {
   "cell_type": "code",
   "execution_count": 38,
   "id": "6d310ceb",
   "metadata": {},
   "outputs": [
    {
     "name": "stdout",
     "output_type": "stream",
     "text": [
      "{'AskForPrice': 0.73943543, 'OfferPrice': 0.04992528, 'Accept': 0.030277442, 'DeclinePrice': 0.026345072, 'DoNotHaveEquipment': 0.017538743, 'None': 0.015950209, 'HaveEquipment': 0.013294258, 'AskIfHaveEquipment': 0.0106658945, 'Decline': 0.009230645, 'HaveInstalledEquipment': 0.009075862, 'AskIfSell': 0.0085241785, 'AskForEquipmentInstallation': 0.0077485545, 'AskForInterest': 0.0077485545, 'AskIfBuy': 0.0077485545, 'DeclineToBuy': 0.0077485545, 'DeclineToSell': 0.0077485545, 'HaveDeinstalledEquipment': 0.0077485545, 'WantDeal': 0.0077485545, 'WantToBuy': 0.0077485545, 'WantToSell': 0.0077485545}\n"
     ]
    }
   ],
   "source": [
    "evaluate_one_text(model, \"pls help me to find FEI FIB ,200,450\") ## not correct"
   ]
  },
  {
   "cell_type": "code",
   "execution_count": 39,
   "id": "995ce1fa",
   "metadata": {},
   "outputs": [
    {
     "name": "stdout",
     "output_type": "stream",
     "text": [
      "{'DeclineToSell': 0.57138395, 'WantToSell': 0.10745828, 'DeclinePrice': 0.038377095, 'DeclineToBuy': 0.037403964, 'WantToBuy': 0.03374374, 'DoNotHaveEquipment': 0.027715765, 'HaveDeinstalledEquipment': 0.02268651, 'AskIfSell': 0.019911686, 'Decline': 0.013121919, 'Accept': 0.011654278, 'AskForEquipmentInstallation': 0.011654278, 'AskForInterest': 0.011654278, 'AskForPrice': 0.011654278, 'AskIfBuy': 0.011654278, 'AskIfHaveEquipment': 0.011654278, 'HaveEquipment': 0.011654278, 'HaveInstalledEquipment': 0.011654278, 'None': 0.011654278, 'OfferPrice': 0.011654278, 'WantDeal': 0.011654278}\n"
     ]
    }
   ],
   "source": [
    "evaluate_one_text(model, \"Sorry we are buying not selling.\")"
   ]
  },
  {
   "cell_type": "code",
   "execution_count": null,
   "id": "765834fe",
   "metadata": {},
   "outputs": [],
   "source": []
  }
 ],
 "metadata": {
  "kernelspec": {
   "display_name": "Python 3",
   "language": "python",
   "name": "python3"
  },
  "language_info": {
   "codemirror_mode": {
    "name": "ipython",
    "version": 3
   },
   "file_extension": ".py",
   "mimetype": "text/x-python",
   "name": "python",
   "nbconvert_exporter": "python",
   "pygments_lexer": "ipython3",
   "version": "3.10.0"
  }
 },
 "nbformat": 4,
 "nbformat_minor": 5
}
