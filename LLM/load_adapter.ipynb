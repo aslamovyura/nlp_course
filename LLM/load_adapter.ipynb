{
 "cells": [
  {
   "attachments": {},
   "cell_type": "markdown",
   "metadata": {},
   "source": [
    "# Load LoRA adapters"
   ]
  },
  {
   "cell_type": "code",
   "execution_count": 1,
   "metadata": {},
   "outputs": [
    {
     "name": "stdout",
     "output_type": "stream",
     "text": [
      "OK\n"
     ]
    }
   ],
   "source": [
    "import torch\n",
    "if torch.cuda.get_device_capability() < (7, 5):\n",
    "    raise ValueError(f\"You got a GPU with capability {torch.cuda.get_device_capability()}, need at least (7, 5)\")\n",
    "else: print(\"OK\")"
   ]
  },
  {
   "cell_type": "code",
   "execution_count": 2,
   "metadata": {},
   "outputs": [
    {
     "name": "stdout",
     "output_type": "stream",
     "text": [
      "Requirement already satisfied: bitsandbytes==0.37.0 in /home/tfsservices/miniconda3/envs/nlp_test/lib/python3.10/site-packages (0.37.0)\n",
      "Requirement already satisfied: transformers==4.27.4 in /home/tfsservices/miniconda3/envs/nlp_test/lib/python3.10/site-packages (4.27.4)\n",
      "Requirement already satisfied: datasets==2.7.0 in /home/tfsservices/miniconda3/envs/nlp_test/lib/python3.10/site-packages (2.7.0)\n",
      "Requirement already satisfied: accelerate==0.18.0 in /home/tfsservices/miniconda3/envs/nlp_test/lib/python3.10/site-packages (0.18.0)\n",
      "Requirement already satisfied: loralib==0.1.1 in /home/tfsservices/miniconda3/envs/nlp_test/lib/python3.10/site-packages (0.1.1)\n",
      "Requirement already satisfied: peft==0.3.0.dev0 in /home/tfsservices/miniconda3/envs/nlp_test/lib/python3.10/site-packages (0.3.0.dev0)\n",
      "Requirement already satisfied: regex!=2019.12.17 in /home/tfsservices/miniconda3/envs/nlp_test/lib/python3.10/site-packages (from transformers==4.27.4) (2022.10.31)\n",
      "Requirement already satisfied: packaging>=20.0 in /home/tfsservices/miniconda3/envs/nlp_test/lib/python3.10/site-packages (from transformers==4.27.4) (23.0)\n",
      "Requirement already satisfied: pyyaml>=5.1 in /home/tfsservices/miniconda3/envs/nlp_test/lib/python3.10/site-packages (from transformers==4.27.4) (6.0)\n",
      "Requirement already satisfied: tqdm>=4.27 in /home/tfsservices/miniconda3/envs/nlp_test/lib/python3.10/site-packages (from transformers==4.27.4) (4.65.0)\n",
      "Requirement already satisfied: numpy>=1.17 in /home/tfsservices/miniconda3/envs/nlp_test/lib/python3.10/site-packages (from transformers==4.27.4) (1.23.5)\n",
      "Requirement already satisfied: filelock in /home/tfsservices/miniconda3/envs/nlp_test/lib/python3.10/site-packages (from transformers==4.27.4) (3.9.1)\n",
      "Requirement already satisfied: huggingface-hub<1.0,>=0.11.0 in /home/tfsservices/miniconda3/envs/nlp_test/lib/python3.10/site-packages (from transformers==4.27.4) (0.13.2)\n",
      "Requirement already satisfied: requests in /home/tfsservices/miniconda3/envs/nlp_test/lib/python3.10/site-packages (from transformers==4.27.4) (2.28.2)\n",
      "Requirement already satisfied: tokenizers!=0.11.3,<0.14,>=0.11.1 in /home/tfsservices/miniconda3/envs/nlp_test/lib/python3.10/site-packages (from transformers==4.27.4) (0.13.2)\n",
      "Requirement already satisfied: multiprocess in /home/tfsservices/miniconda3/envs/nlp_test/lib/python3.10/site-packages (from datasets==2.7.0) (0.70.14)\n",
      "Requirement already satisfied: aiohttp in /home/tfsservices/miniconda3/envs/nlp_test/lib/python3.10/site-packages (from datasets==2.7.0) (3.8.4)\n",
      "Requirement already satisfied: pandas in /home/tfsservices/miniconda3/envs/nlp_test/lib/python3.10/site-packages (from datasets==2.7.0) (1.5.3)\n",
      "Requirement already satisfied: pyarrow>=6.0.0 in /home/tfsservices/miniconda3/envs/nlp_test/lib/python3.10/site-packages (from datasets==2.7.0) (11.0.0)\n",
      "Requirement already satisfied: fsspec[http]>=2021.11.1 in /home/tfsservices/miniconda3/envs/nlp_test/lib/python3.10/site-packages (from datasets==2.7.0) (2023.3.0)\n",
      "Requirement already satisfied: responses<0.19 in /home/tfsservices/miniconda3/envs/nlp_test/lib/python3.10/site-packages (from datasets==2.7.0) (0.18.0)\n",
      "Requirement already satisfied: xxhash in /home/tfsservices/miniconda3/envs/nlp_test/lib/python3.10/site-packages (from datasets==2.7.0) (3.2.0)\n",
      "Requirement already satisfied: dill<0.3.7 in /home/tfsservices/miniconda3/envs/nlp_test/lib/python3.10/site-packages (from datasets==2.7.0) (0.3.6)\n",
      "Requirement already satisfied: torch>=1.4.0 in /home/tfsservices/miniconda3/envs/nlp_test/lib/python3.10/site-packages (from accelerate==0.18.0) (2.0.0)\n",
      "Requirement already satisfied: psutil in /home/tfsservices/miniconda3/envs/nlp_test/lib/python3.10/site-packages (from accelerate==0.18.0) (5.9.4)\n",
      "Requirement already satisfied: yarl<2.0,>=1.0 in /home/tfsservices/miniconda3/envs/nlp_test/lib/python3.10/site-packages (from aiohttp->datasets==2.7.0) (1.8.2)\n",
      "Requirement already satisfied: frozenlist>=1.1.1 in /home/tfsservices/miniconda3/envs/nlp_test/lib/python3.10/site-packages (from aiohttp->datasets==2.7.0) (1.3.3)\n",
      "Requirement already satisfied: multidict<7.0,>=4.5 in /home/tfsservices/miniconda3/envs/nlp_test/lib/python3.10/site-packages (from aiohttp->datasets==2.7.0) (6.0.4)\n",
      "Requirement already satisfied: charset-normalizer<4.0,>=2.0 in /home/tfsservices/miniconda3/envs/nlp_test/lib/python3.10/site-packages (from aiohttp->datasets==2.7.0) (3.1.0)\n",
      "Requirement already satisfied: aiosignal>=1.1.2 in /home/tfsservices/miniconda3/envs/nlp_test/lib/python3.10/site-packages (from aiohttp->datasets==2.7.0) (1.3.1)\n",
      "Requirement already satisfied: attrs>=17.3.0 in /home/tfsservices/miniconda3/envs/nlp_test/lib/python3.10/site-packages (from aiohttp->datasets==2.7.0) (22.2.0)\n",
      "Requirement already satisfied: async-timeout<5.0,>=4.0.0a3 in /home/tfsservices/miniconda3/envs/nlp_test/lib/python3.10/site-packages (from aiohttp->datasets==2.7.0) (4.0.2)\n",
      "Requirement already satisfied: typing-extensions>=3.7.4.3 in /home/tfsservices/miniconda3/envs/nlp_test/lib/python3.10/site-packages (from huggingface-hub<1.0,>=0.11.0->transformers==4.27.4) (4.5.0)\n",
      "Requirement already satisfied: certifi>=2017.4.17 in /home/tfsservices/miniconda3/envs/nlp_test/lib/python3.10/site-packages (from requests->transformers==4.27.4) (2022.12.7)\n",
      "Requirement already satisfied: urllib3<1.27,>=1.21.1 in /home/tfsservices/miniconda3/envs/nlp_test/lib/python3.10/site-packages (from requests->transformers==4.27.4) (1.26.15)\n",
      "Requirement already satisfied: idna<4,>=2.5 in /home/tfsservices/miniconda3/envs/nlp_test/lib/python3.10/site-packages (from requests->transformers==4.27.4) (3.4)\n",
      "Requirement already satisfied: nvidia-cuda-nvrtc-cu11==11.7.99 in /home/tfsservices/miniconda3/envs/nlp_test/lib/python3.10/site-packages (from torch>=1.4.0->accelerate==0.18.0) (11.7.99)\n",
      "Requirement already satisfied: nvidia-cublas-cu11==11.10.3.66 in /home/tfsservices/miniconda3/envs/nlp_test/lib/python3.10/site-packages (from torch>=1.4.0->accelerate==0.18.0) (11.10.3.66)\n",
      "Requirement already satisfied: nvidia-cufft-cu11==10.9.0.58 in /home/tfsservices/miniconda3/envs/nlp_test/lib/python3.10/site-packages (from torch>=1.4.0->accelerate==0.18.0) (10.9.0.58)\n",
      "Requirement already satisfied: nvidia-cuda-runtime-cu11==11.7.99 in /home/tfsservices/miniconda3/envs/nlp_test/lib/python3.10/site-packages (from torch>=1.4.0->accelerate==0.18.0) (11.7.99)\n",
      "Requirement already satisfied: jinja2 in /home/tfsservices/miniconda3/envs/nlp_test/lib/python3.10/site-packages (from torch>=1.4.0->accelerate==0.18.0) (3.1.2)\n",
      "Requirement already satisfied: triton==2.0.0 in /home/tfsservices/miniconda3/envs/nlp_test/lib/python3.10/site-packages (from torch>=1.4.0->accelerate==0.18.0) (2.0.0)\n",
      "Requirement already satisfied: nvidia-nvtx-cu11==11.7.91 in /home/tfsservices/miniconda3/envs/nlp_test/lib/python3.10/site-packages (from torch>=1.4.0->accelerate==0.18.0) (11.7.91)\n",
      "Requirement already satisfied: sympy in /home/tfsservices/miniconda3/envs/nlp_test/lib/python3.10/site-packages (from torch>=1.4.0->accelerate==0.18.0) (1.11.1)\n",
      "Requirement already satisfied: nvidia-curand-cu11==10.2.10.91 in /home/tfsservices/miniconda3/envs/nlp_test/lib/python3.10/site-packages (from torch>=1.4.0->accelerate==0.18.0) (10.2.10.91)\n",
      "Requirement already satisfied: nvidia-cusolver-cu11==11.4.0.1 in /home/tfsservices/miniconda3/envs/nlp_test/lib/python3.10/site-packages (from torch>=1.4.0->accelerate==0.18.0) (11.4.0.1)\n",
      "Requirement already satisfied: nvidia-cusparse-cu11==11.7.4.91 in /home/tfsservices/miniconda3/envs/nlp_test/lib/python3.10/site-packages (from torch>=1.4.0->accelerate==0.18.0) (11.7.4.91)\n",
      "Requirement already satisfied: nvidia-cuda-cupti-cu11==11.7.101 in /home/tfsservices/miniconda3/envs/nlp_test/lib/python3.10/site-packages (from torch>=1.4.0->accelerate==0.18.0) (11.7.101)\n",
      "Requirement already satisfied: nvidia-cudnn-cu11==8.5.0.96 in /home/tfsservices/miniconda3/envs/nlp_test/lib/python3.10/site-packages (from torch>=1.4.0->accelerate==0.18.0) (8.5.0.96)\n",
      "Requirement already satisfied: networkx in /home/tfsservices/miniconda3/envs/nlp_test/lib/python3.10/site-packages (from torch>=1.4.0->accelerate==0.18.0) (3.0)\n",
      "Requirement already satisfied: nvidia-nccl-cu11==2.14.3 in /home/tfsservices/miniconda3/envs/nlp_test/lib/python3.10/site-packages (from torch>=1.4.0->accelerate==0.18.0) (2.14.3)\n",
      "Requirement already satisfied: setuptools in /home/tfsservices/miniconda3/envs/nlp_test/lib/python3.10/site-packages (from nvidia-cublas-cu11==11.10.3.66->torch>=1.4.0->accelerate==0.18.0) (65.6.3)\n",
      "Requirement already satisfied: wheel in /home/tfsservices/miniconda3/envs/nlp_test/lib/python3.10/site-packages (from nvidia-cublas-cu11==11.10.3.66->torch>=1.4.0->accelerate==0.18.0) (0.37.1)\n",
      "Requirement already satisfied: lit in /home/tfsservices/miniconda3/envs/nlp_test/lib/python3.10/site-packages (from triton==2.0.0->torch>=1.4.0->accelerate==0.18.0) (15.0.7)\n",
      "Requirement already satisfied: cmake in /home/tfsservices/miniconda3/envs/nlp_test/lib/python3.10/site-packages (from triton==2.0.0->torch>=1.4.0->accelerate==0.18.0) (3.26.0)\n",
      "Requirement already satisfied: pytz>=2020.1 in /home/tfsservices/miniconda3/envs/nlp_test/lib/python3.10/site-packages (from pandas->datasets==2.7.0) (2022.7.1)\n",
      "Requirement already satisfied: python-dateutil>=2.8.1 in /home/tfsservices/miniconda3/envs/nlp_test/lib/python3.10/site-packages (from pandas->datasets==2.7.0) (2.8.2)\n",
      "Requirement already satisfied: six>=1.5 in /home/tfsservices/miniconda3/envs/nlp_test/lib/python3.10/site-packages (from python-dateutil>=2.8.1->pandas->datasets==2.7.0) (1.16.0)\n",
      "Requirement already satisfied: MarkupSafe>=2.0 in /home/tfsservices/miniconda3/envs/nlp_test/lib/python3.10/site-packages (from jinja2->torch>=1.4.0->accelerate==0.18.0) (2.1.2)\n",
      "Requirement already satisfied: mpmath>=0.19 in /home/tfsservices/miniconda3/envs/nlp_test/lib/python3.10/site-packages (from sympy->torch>=1.4.0->accelerate==0.18.0) (1.3.0)\n",
      "Note: you may need to restart the kernel to use updated packages.\n"
     ]
    }
   ],
   "source": [
    "%pip install bitsandbytes==0.37.0 transformers==4.27.4 datasets==2.7.0 accelerate==0.18.0 loralib==0.1.1 peft==0.3.0.dev0"
   ]
  },
  {
   "attachments": {},
   "cell_type": "markdown",
   "metadata": {},
   "source": [
    "#### Load base model"
   ]
  },
  {
   "cell_type": "code",
   "execution_count": 3,
   "metadata": {},
   "outputs": [
    {
     "name": "stdout",
     "output_type": "stream",
     "text": [
      "\n",
      "===================================BUG REPORT===================================\n",
      "Welcome to bitsandbytes. For bug reports, please submit your error trace to: https://github.com/TimDettmers/bitsandbytes/issues\n",
      "================================================================================\n"
     ]
    },
    {
     "name": "stderr",
     "output_type": "stream",
     "text": [
      "/home/tfsservices/miniconda3/envs/nlp_test/lib/python3.10/site-packages/tqdm/auto.py:21: TqdmWarning: IProgress not found. Please update jupyter and ipywidgets. See https://ipywidgets.readthedocs.io/en/stable/user_install.html\n",
      "  from .autonotebook import tqdm as notebook_tqdm\n",
      "Loading checkpoint shards: 100%|██████████| 7/7 [00:36<00:00,  5.16s/it]\n"
     ]
    }
   ],
   "source": [
    "import torch\n",
    "import torch.nn as nn\n",
    "import torch.nn.functional as F\n",
    "import bitsandbytes as bnb\n",
    "from transformers import AutoTokenizer, AutoConfig, AutoModelForCausalLM\n",
    "\n",
    "CACHE_DIR = '/media/tfsservices/DATA/NLP/cache/'\n",
    "# MODEL_NAME = \"facebook/opt-6.7b\"\n",
    "MODEL_NAME = \"facebook/opt-30b\"\n",
    "\n",
    "model = AutoModelForCausalLM.from_pretrained(\n",
    "    MODEL_NAME,\n",
    "    load_in_8bit=True,        # bitsandbytes lib required (convert the loaded model into mixed-8bit quantized model.)\n",
    "    device_map='auto',\n",
    "    torch_dtype=torch.float16,\n",
    "    cache_dir=CACHE_DIR)      # path to a directory in which a downloaded pretrained model\n",
    "    # low_cpu_mem_usage=True,   # loads the model using ~1x model size CPU memory\n",
    "    # offload_state_dict=True)  # temporarily offload the CPU state dict to the hard drive to avoid getting out of CPU RAM\n",
    "tokenizer = AutoTokenizer.from_pretrained(MODEL_NAME, cache_dir=CACHE_DIR)"
   ]
  },
  {
   "cell_type": "code",
   "execution_count": 4,
   "metadata": {},
   "outputs": [],
   "source": [
    "def test_generate_marketing():\n",
    "\n",
    "    inputs = tokenizer(\"Hi {FirstName}\", return_tensors=\"pt\")\n",
    "\n",
    "    with torch.no_grad():\n",
    "        outputs = model.generate(input_ids=inputs[\"input_ids\"].to(\"cuda\"), max_new_tokens=200)\n",
    "        print(tokenizer.batch_decode(outputs.detach().cpu().numpy(), skip_special_tokens=True)[0])"
   ]
  },
  {
   "cell_type": "code",
   "execution_count": 5,
   "metadata": {},
   "outputs": [
    {
     "data": {
      "text/plain": [
       "OPTForCausalLM(\n",
       "  (model): OPTModel(\n",
       "    (decoder): OPTDecoder(\n",
       "      (embed_tokens): Embedding(50272, 7168, padding_idx=1)\n",
       "      (embed_positions): OPTLearnedPositionalEmbedding(2050, 7168)\n",
       "      (final_layer_norm): LayerNorm((7168,), eps=1e-05, elementwise_affine=True)\n",
       "      (layers): ModuleList(\n",
       "        (0-47): 48 x OPTDecoderLayer(\n",
       "          (self_attn): OPTAttention(\n",
       "            (k_proj): Linear8bitLt(in_features=7168, out_features=7168, bias=True)\n",
       "            (v_proj): Linear8bitLt(in_features=7168, out_features=7168, bias=True)\n",
       "            (q_proj): Linear8bitLt(in_features=7168, out_features=7168, bias=True)\n",
       "            (out_proj): Linear8bitLt(in_features=7168, out_features=7168, bias=True)\n",
       "          )\n",
       "          (activation_fn): ReLU()\n",
       "          (self_attn_layer_norm): LayerNorm((7168,), eps=1e-05, elementwise_affine=True)\n",
       "          (fc1): Linear8bitLt(in_features=7168, out_features=28672, bias=True)\n",
       "          (fc2): Linear8bitLt(in_features=28672, out_features=7168, bias=True)\n",
       "          (final_layer_norm): LayerNorm((7168,), eps=1e-05, elementwise_affine=True)\n",
       "        )\n",
       "      )\n",
       "    )\n",
       "  )\n",
       "  (lm_head): Linear(in_features=7168, out_features=50272, bias=False)\n",
       ")"
      ]
     },
     "execution_count": 5,
     "metadata": {},
     "output_type": "execute_result"
    }
   ],
   "source": [
    "model.eval()"
   ]
  },
  {
   "cell_type": "code",
   "execution_count": 6,
   "metadata": {},
   "outputs": [
    {
     "name": "stdout",
     "output_type": "stream",
     "text": [
      "Hi {FirstName}!\n",
      "\n",
      "Look out for our weekly newsletters that feature the latest news in and around your community.\n",
      "\n",
      "We'll feature local events, announcements, and other information that you won't find anywhere else.\n",
      "\n",
      "All you have to do is sign up below.\n",
      "\n",
      "Email Address\n",
      "\n",
      "First Name\n",
      "\n",
      "Last Name\n",
      "\n",
      "By submitting this form, you are granting: The Community Foundation of Greater New Haven, P.O. Box 609, New Haven, Connecticut, 06511, United States, http://www.cfgnh.org permission to email you. You may unsubscribe via the link found at the bottom of every email. (See our Email Privacy Policy for details.) Emails are serviced by Constant Contact.\n"
     ]
    }
   ],
   "source": [
    "test_generate_marketing()"
   ]
  },
  {
   "attachments": {},
   "cell_type": "markdown",
   "metadata": {},
   "source": [
    "#### Load and apply LoRA adapter"
   ]
  },
  {
   "cell_type": "code",
   "execution_count": 7,
   "metadata": {},
   "outputs": [],
   "source": [
    "from peft import PeftModel, PeftConfig\n",
    "\n",
    "# peft_model_id = \"lora_adapters\"\n",
    "# peft_model_id = \"lora_adapters-13b\"\n",
    "peft_model_id = \"lora_adapters-30b\"\n",
    "\n",
    "config = PeftConfig.from_pretrained(peft_model_id)\n",
    "model = PeftModel.from_pretrained(model, peft_model_id)\n"
   ]
  },
  {
   "cell_type": "code",
   "execution_count": 9,
   "metadata": {},
   "outputs": [
    {
     "name": "stdout",
     "output_type": "stream",
     "text": [
      "Hi {FirstName}\n",
      "\n",
      "I'm reaching out because we discussed {MakeModel} Generators before. I noticed that you have a need for a {MakeModel} Generators and I have a {MakeModel} Generators for sale at the moment. The unit is complete and available immediately. The seller is looking to get back 100% of the purchase price.\n",
      "\n",
      "Please review the details in the link below and let me know if you are interested.\n",
      "\n",
      "{Listing}\n",
      "\n",
      "{SendersSignature}\n",
      "\n",
      "{SendersSignature}\n",
      "\n",
      "{Listing}\n",
      "\n",
      "{SendersSignature}\n",
      "\n",
      "{SendersSignature}\n",
      "\n",
      "{SendersSignature}\n",
      "\n",
      "{SendersSignature}\n",
      "\n",
      "{SendersSignature}\n",
      "\n",
      "{SendersSignature}\n",
      "\n",
      "{SendersSignature}\n",
      "\n",
      "{SendersSignature}\n",
      "\n",
      "{SendersSignature}\n",
      "\n",
      "{SendersSignature}\n",
      "\n",
      "{\n"
     ]
    }
   ],
   "source": [
    "test_generate_marketing()"
   ]
  },
  {
   "cell_type": "code",
   "execution_count": null,
   "metadata": {},
   "outputs": [],
   "source": []
  }
 ],
 "metadata": {
  "kernelspec": {
   "display_name": "nlp_test",
   "language": "python",
   "name": "python3"
  },
  "language_info": {
   "codemirror_mode": {
    "name": "ipython",
    "version": 3
   },
   "file_extension": ".py",
   "mimetype": "text/x-python",
   "name": "python",
   "nbconvert_exporter": "python",
   "pygments_lexer": "ipython3",
   "version": "3.10.0"
  },
  "orig_nbformat": 4
 },
 "nbformat": 4,
 "nbformat_minor": 2
}
