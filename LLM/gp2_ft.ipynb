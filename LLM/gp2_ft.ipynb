{
 "cells": [
  {
   "cell_type": "code",
   "execution_count": 1,
   "metadata": {},
   "outputs": [
    {
     "name": "stdout",
     "output_type": "stream",
     "text": [
      "Requirement already satisfied: transformers in /home/tfsservices/miniconda3/envs/nlp_test/lib/python3.10/site-packages (4.24.0)\n",
      "Requirement already satisfied: filelock in /home/tfsservices/miniconda3/envs/nlp_test/lib/python3.10/site-packages (from transformers) (3.9.1)\n",
      "Requirement already satisfied: tokenizers!=0.11.3,<0.14,>=0.11.1 in /home/tfsservices/miniconda3/envs/nlp_test/lib/python3.10/site-packages (from transformers) (0.13.2)\n",
      "Requirement already satisfied: packaging>=20.0 in /home/tfsservices/miniconda3/envs/nlp_test/lib/python3.10/site-packages (from transformers) (23.0)\n",
      "Requirement already satisfied: pyyaml>=5.1 in /home/tfsservices/miniconda3/envs/nlp_test/lib/python3.10/site-packages (from transformers) (6.0)\n",
      "Requirement already satisfied: regex!=2019.12.17 in /home/tfsservices/miniconda3/envs/nlp_test/lib/python3.10/site-packages (from transformers) (2022.10.31)\n",
      "Requirement already satisfied: numpy>=1.17 in /home/tfsservices/miniconda3/envs/nlp_test/lib/python3.10/site-packages (from transformers) (1.23.5)\n",
      "Requirement already satisfied: requests in /home/tfsservices/miniconda3/envs/nlp_test/lib/python3.10/site-packages (from transformers) (2.28.2)\n",
      "Requirement already satisfied: tqdm>=4.27 in /home/tfsservices/miniconda3/envs/nlp_test/lib/python3.10/site-packages (from transformers) (4.65.0)\n",
      "Requirement already satisfied: huggingface-hub<1.0,>=0.10.0 in /home/tfsservices/miniconda3/envs/nlp_test/lib/python3.10/site-packages (from transformers) (0.13.2)\n",
      "Requirement already satisfied: typing-extensions>=3.7.4.3 in /home/tfsservices/miniconda3/envs/nlp_test/lib/python3.10/site-packages (from huggingface-hub<1.0,>=0.10.0->transformers) (4.5.0)\n",
      "Requirement already satisfied: idna<4,>=2.5 in /home/tfsservices/miniconda3/envs/nlp_test/lib/python3.10/site-packages (from requests->transformers) (3.4)\n",
      "Requirement already satisfied: certifi>=2017.4.17 in /home/tfsservices/miniconda3/envs/nlp_test/lib/python3.10/site-packages (from requests->transformers) (2022.12.7)\n",
      "Requirement already satisfied: urllib3<1.27,>=1.21.1 in /home/tfsservices/miniconda3/envs/nlp_test/lib/python3.10/site-packages (from requests->transformers) (1.26.15)\n",
      "Requirement already satisfied: charset-normalizer<4,>=2 in /home/tfsservices/miniconda3/envs/nlp_test/lib/python3.10/site-packages (from requests->transformers) (3.1.0)\n"
     ]
    }
   ],
   "source": [
    "!pip install transformers\n",
    "# !pip install pytorch"
   ]
  },
  {
   "cell_type": "code",
   "execution_count": 3,
   "metadata": {},
   "outputs": [],
   "source": [
    "import transformers\n",
    "from transformers import pipeline\n",
    "\n",
    "import os\n",
    "# os.environ['TRANSFORMERS_CACHE'] = 'media/tfsservices/cache/'\n",
    "\n",
    "# export HF_HOME='media/tfsservices/cache/'\n",
    "cache_dir = '/media/tfsservices/DATA/NLP/cache/'"
   ]
  },
  {
   "cell_type": "code",
   "execution_count": 3,
   "metadata": {},
   "outputs": [],
   "source": [
    "# from transformers import AutoTokenizer, TrainingArguments, Trainer, AutoModelForCausalLM, IntervalStrategy\n",
    "\n",
    "# tokenizer = AutoTokenizer.from_pretrained(\"EleutherAI/gpt-neo-2.7B\", bos_token='<|startoftext|>',\n",
    "#                                           eos_token='<|endoftext|>', pad_token='<|pad|>')\n",
    "\n",
    "# model = AutoModelForCausalLM.from_pretrained(\"EleutherAI/gpt-neo-2.7B\").cuda()"
   ]
  },
  {
   "cell_type": "code",
   "execution_count": 4,
   "metadata": {},
   "outputs": [],
   "source": [
    "# generated = tokenizer(\"<|startoftext|>\", return_tensors=\"pt\").input_ids.cuda()\n",
    "# sample_outputs = model.generate(generated, do_sample=True, top_k=50,\n",
    "#                                 bos_token='<|startoftext|>',\n",
    "#                                 eos_token='<|endoftext|>', pad_token='<|pad|>',\n",
    "#                                 max_length=300, top_p=0.95, temperature=1.9, num_return_sequences=20)\n",
    "\n",
    "# for i, sample_output in enumerate(sample_outputs):\n",
    "#     print(\"{}: {}\".format(i, tokenizer.decode(sample_output, skip_special_tokens=True)))"
   ]
  },
  {
   "cell_type": "code",
   "execution_count": 4,
   "metadata": {},
   "outputs": [],
   "source": [
    "from transformers import AutoModelForCausalLM, AutoTokenizer\n",
    "\n",
    "model = AutoModelForCausalLM.from_pretrained(\"EleutherAI/gpt-j-6B\", cache_dir=cache_dir).cuda()\n",
    "tokenizer = AutoTokenizer.from_pretrained(\"EleutherAI/gpt-j-6B\", cache_dir=cache_dir)"
   ]
  },
  {
   "cell_type": "code",
   "execution_count": 20,
   "metadata": {},
   "outputs": [],
   "source": [
    "def evaluate(prompt: str):\n",
    "    input_ids = tokenizer(prompt, return_tensors=\"pt\").input_ids.to('cuda')\n",
    "\n",
    "    gen_tokens = model.generate(\n",
    "        input_ids,\n",
    "        do_sample=True,\n",
    "        temperature=0.9,\n",
    "        max_length=450\n",
    "        # early_stopping =True\n",
    "    )\n",
    "    gen_text = tokenizer.batch_decode(gen_tokens)[0]\n",
    "    print(gen_text)"
   ]
  },
  {
   "cell_type": "code",
   "execution_count": 12,
   "metadata": {},
   "outputs": [
    {
     "name": "stderr",
     "output_type": "stream",
     "text": [
      "The attention mask and the pad token id were not set. As a consequence, you may observe unexpected behavior. Please pass your input's `attention_mask` to obtain reliable results.\n",
      "Setting `pad_token_id` to `eos_token_id`:50256 for open-end generation.\n"
     ]
    },
    {
     "name": "stdout",
     "output_type": "stream",
     "text": [
      "Deep Learning is a sub-field of Artificial Intelligence. I will teach you how to implement Dense Neural Networks(CNN) and also how to implement RNN and LSTM from scratch as part of our Deep Learning Series.\n",
      "\n",
      "Deep learning has become very popular recently in the field of computer vision and natural language processing. With the availability of large amounts of data, deep neural networks (DNN) are very efficient in learning the visual and linguistic patterns.\n",
      "\n",
      "We will talk about what is a Neural Network and its different types.\n",
      "\n",
      "What is a neural network?\n",
      "\n",
      "In the natural world, a neural network is an information processing system that is designed to solve problems. The neural network consists of neurons which are the basic units\n"
     ]
    }
   ],
   "source": [
    "evaluate(\"Deep Learning is a sub-field of Artificial Intelligence.\")"
   ]
  },
  {
   "cell_type": "code",
   "execution_count": 13,
   "metadata": {},
   "outputs": [
    {
     "name": "stderr",
     "output_type": "stream",
     "text": [
      "The attention mask and the pad token id were not set. As a consequence, you may observe unexpected behavior. Please pass your input's `attention_mask` to obtain reliable results.\n",
      "Setting `pad_token_id` to `eos_token_id`:50256 for open-end generation.\n"
     ]
    },
    {
     "name": "stdout",
     "output_type": "stream",
     "text": [
      "Short 100 words technical description for etcher unit is the follows:\n",
      "\n",
      "Etcher works out-of-build for creating and transferring the most complex and sophisticated electronic device. It is a single-pass, direct writing process that uses a special film as a transfer medium. The etching process that is responsible for transferring the circuit patterns onto the film from the metal track is performed simultaneously with the fabrication of the component. The film is typically used as a permanent record for each circuit that is printed. Etching is performed by flowing a strong acid over a track and, as this acid passes over it, it leaves the exposed areas of the gold or aluminum film intact. Once the etching is complete, the circuit is ready to be transferred to\n"
     ]
    }
   ],
   "source": [
    "evaluate(\"Short 100 words technical description for etcher unit is the follows:\")"
   ]
  },
  {
   "cell_type": "code",
   "execution_count": 22,
   "metadata": {},
   "outputs": [
    {
     "name": "stderr",
     "output_type": "stream",
     "text": [
      "The attention mask and the pad token id were not set. As a consequence, you may observe unexpected behavior. Please pass your input's `attention_mask` to obtain reliable results.\n",
      "Setting `pad_token_id` to `eos_token_id`:50256 for open-end generation.\n"
     ]
    },
    {
     "name": "stdout",
     "output_type": "stream",
     "text": [
      "Short 200 words technical description for AMAT/APPLIERD MATERIALS P5000 (sputtering system) unit is the follows:\n",
      "\n",
      "P5000 is a Sputtering System which is mainly made for the production of the thin film. Sputtering is a type of physical vapor deposition (PVD) which is a very common method for the deposition of thin films. The P5000 sputtering system is based on the principle of electron cyclotron resonance (ECR) which can be used to produce large-area, uniform, and conformal deposition of metal films. The P5000 is based on the principle of electron cyclotron resonance (ECR) which is the principle of ionization on the surface of a gas. It helps to develop thin films of metals and alloys like aluminum, titanium, titanium alloys, zirconium, zirconium alloys, tantalum, tungsten and their alloys. For deposition of metal films, the P5000 uses ECR to ionize the argon gas. The ionized gas is then used for sputtering the substrate.\n",
      "\n",
      "In short, the basic principle of the P5000 is that high-frequency radio waves and plasma in a low-pressure chamber and the system generates a magnetic field near the chamber that makes the electrons from a power source collide with the positive ions present in the plasma to generate a plasma. The P5000 is primarily intended to deposit thin films of metals and alloys of Al, Ti, Zr, Ta, and TIA.\n",
      "\n",
      "Advantages of the P5000 are:\n",
      "\n",
      "1. Ability to deposit thin films which have thickness less than 0.5 mm with excellent adherence.\n",
      "\n",
      "2. Uniform and conformal coating with no edge effect.\n",
      "\n",
      "3. The process is highly scalable and can be performed at atmospheric pressure.\n",
      "\n",
      "4. The process is compatible with various substrates such as glass, polymers, and silicon wafers etc.\n",
      "\n",
      "5. The system is capable of co-deposition of multiple metals without compromising on adherence.\n",
      "\n",
      "6. The process uses small chamber sizes and is safe for operators.\n",
      "\n",
      "7. All of the material used\n"
     ]
    }
   ],
   "source": [
    "evaluate(\"Short 200 words technical description for AMAT/APPLIERD MATERIALS P5000 (sputtering system) unit is the follows:\")"
   ]
  },
  {
   "cell_type": "code",
   "execution_count": 23,
   "metadata": {},
   "outputs": [
    {
     "name": "stderr",
     "output_type": "stream",
     "text": [
      "The attention mask and the pad token id were not set. As a consequence, you may observe unexpected behavior. Please pass your input's `attention_mask` to obtain reliable results.\n",
      "Setting `pad_token_id` to `eos_token_id`:50256 for open-end generation.\n"
     ]
    },
    {
     "name": "stdout",
     "output_type": "stream",
     "text": [
      "Short 200 words technical description for AMAT/APPLIERD MATERIALS P5000 (sputtering system) unit is the follows:\n",
      "\n",
      "The AMAT/APPLIERD P5000 is a multi-target, radio frequency (RF) sputtering device that is utilized to coat the surface of a substrate with material or create an insulating layer on the substrate. The sputtering unit can deposit thin film coatings on a wide variety of substrates including nonmetals, metals, ceramics, and semiconductors.\n",
      "\n",
      "The sputtering unit can deposit any metal or insulating layer ranging from two to ten micrometers thick. The thickness and composition of the coatings can be adjusted according to the requirements of the application.\n",
      "\n",
      "The P5000 sputter chamber has a diameter of 20 inches and a length of 6.4 inches with a maximum load capacity of 50 pounds. The chamber can be set up in a horizontal or vertical configuration to accommodate either a rotation or parallel plate magnet. This unit is generally used in conjunction with the AMAT/APPLIERD P7000 as a coating chamber.\n",
      "\n",
      "Application Process\n",
      "\n",
      "The P5000 sputtering unit is utilized for coating the surface of a substrate with a uniform and continuous thin film of material. The substrate can be composed of metals, nonmetals, ceramics, or semiconductors. The coated material is deposited on the substrate by a combination of sputtering and ion plating steps. The sputtering method consists of depositing a highly energized plasma of inert gas (argon) and inert gas ions (Ar+) onto the surface of a rotating target by means of an applied RF voltage. The sputtered particles of argon, gas atoms, and gas ions are delivered to the substrate. The ion plating method consists of bombarding a surface of the substrate with inert gas ions which become electrically charged. The charged ions are attracted to the surface of the substrate and are deposited as a thin film of material. Inert gas ions (Ar+) are supplied to the substrate by a plasma source and the substrate is placed in a magnetic field. The plasma source is activated by a radio frequency (RF) power supply connected\n"
     ]
    }
   ],
   "source": [
    "evaluate(\"Short 200 words technical description for AMAT/APPLIERD MATERIALS P5000 (sputtering system) unit is the follows:\")"
   ]
  },
  {
   "cell_type": "code",
   "execution_count": 26,
   "metadata": {},
   "outputs": [
    {
     "name": "stderr",
     "output_type": "stream",
     "text": [
      "The attention mask and the pad token id were not set. As a consequence, you may observe unexpected behavior. Please pass your input's `attention_mask` to obtain reliable results.\n",
      "Setting `pad_token_id` to `eos_token_id`:50256 for open-end generation.\n"
     ]
    },
    {
     "name": "stdout",
     "output_type": "stream",
     "text": [
      "Short 200 words technical description for AMAT/APPLIED MATERIALS P5000 (sputtering system) unit is the follows:\n",
      "\n",
      "AMAT P5000 is the new and innovative technology machine for producing different types of surfaces in many industries, for example, for automobile, medical, electronic, telecommunication, chemical and petrochemical industries. For the mentioned purposes, AMAT P5000 can also be used as an assembly line in some cases.\n",
      "\n",
      "AMAT P5000 makes use of a combination of the latest technology in both hardware and software components. By adopting AMAT P5000, users can have the ability to use AMAT P5000 for producing complex surface by simply changing the angle of the machine in various direction.\n",
      "\n",
      "The AMAT P5000 can be used for producing most of the desired surface of substrates and also used as an assembly line in some cases. It makes use of the new and high-tech technology that can be used in the field of industry.\n",
      "\n",
      "The AMAT P5000 machine can be used for producing many types of surfaces, including the different layers, for example, hard coated (oxide, hard plating, and hard chrome), ceramic, polymeric, metal, ceramic, and composite. AMAT P5000 is the latest generation of sputtering machine and can produce the surface which is very hard and smooth. AMAT P5000 makes use of the advanced sputtering technology to produce a variety of materials in the desired form of surface. This can be used to make hard chrome surface and many other types of surfaces in various industries.\n",
      "\n",
      "AMAT P5000 is the machine that is used for producing highly advanced surfaces which are used in technology, for that reason, AMAT P5000 is always preferred by the various industrial sectors. The AMAT P5000 has the various types of capabilities to produce various types of surfaces such as hard plating of various types, polymeric surfaces, chemical and biological surfaces and coating.\n",
      "\n",
      "The AMAT P5000 machine uses the high technology that makes its own unique and best features, and also having the ability to make various hard surfaces. The various types of surfaces that it can be used for include the various layers and the various types of surfaces.\n"
     ]
    }
   ],
   "source": [
    "evaluate(\"Short 200 words technical description for AMAT/APPLIED MATERIALS P5000 (sputtering system) unit is the follows:\")"
   ]
  },
  {
   "cell_type": "code",
   "execution_count": 27,
   "metadata": {},
   "outputs": [
    {
     "name": "stderr",
     "output_type": "stream",
     "text": [
      "The attention mask and the pad token id were not set. As a consequence, you may observe unexpected behavior. Please pass your input's `attention_mask` to obtain reliable results.\n",
      "Setting `pad_token_id` to `eos_token_id`:50256 for open-end generation.\n"
     ]
    },
    {
     "name": "stdout",
     "output_type": "stream",
     "text": [
      "Short 200 words technical description for AMAT/APPLIED MATERIALS P5000 (sputtering system) unit is the follows:\n",
      "\n",
      "AMAT/APPLIED MATERIALS P5000 is a sputtering system, which is designed for the fabrication of electronic components based on ceramic materials. It consists on a horizontal, rectangular vacuum chamber with a diameter of 1.6 m and a length of 2.5 m (with the sputtering area of 0.2 m2) for the deposition of thin-film materials. Amtron Sputtering Equipment has developed a new range of sputtering systems, which are the AMAT/APPLIED MATERIALS P5000, P4050, P3050 and P2020. This new sputtering systems are based in a new design and manufacturing company, which was created and developed by Amtron Sputtering Equipment, S.L. The company is a product distributor, which has designed sputtering systems based on the sputtering process of Amtron Sputtering Equipment, S.L. These sputtering systems are for the fabrication of electronic components based on ceramic materials, including ceramic components of multilayered products, such as microwave ceramic components based on high frequency for the telecommunications industry. These sputtering systems have also the capability to produce thick films for the manufacturing of sintered ceramic products and high-quality thin films for high-performance electronic components. The new Amtron Sputtering Systems P5000, P4050, P3050 and P2020 are available with two different types of systems:\n",
      "\n",
      "Vacuum Sputtering System Type P5000 : The vertical version of the sputtering system, based on rectangular vacuum chamber design. Vacuum Sputtering System Type P4050 : The vertical version of the sputtering system, based on rectangular vacuum chamber design. Vacuum Sputtering System Type P3050 : The vertical version of the sputtering system, based on rectangular vacuum chamber design. Vacuum Sputtering System Type P2020 : The vertical version of the sputtering system, based on rectangular vacuum chamber design.\n",
      "\n",
      "Vacuum Sputtering System Type P5000 is the following technical description:\n",
      "\n",
      "A vacuum sputtering system for the manufacturing of\n"
     ]
    }
   ],
   "source": [
    "evaluate(\"Short 200 words technical description for AMAT/APPLIED MATERIALS P5000 (sputtering system) unit is the follows:\")"
   ]
  },
  {
   "cell_type": "code",
   "execution_count": 7,
   "metadata": {},
   "outputs": [
    {
     "name": "stderr",
     "output_type": "stream",
     "text": [
      "Setting `pad_token_id` to `eos_token_id`:50256 for open-end generation.\n"
     ]
    }
   ],
   "source": [
    "# context = \"Describe AMAT/APPLIED MATERIALS P5000 in 100 tokens of technical text.\"\n",
    "# output = gen(context, max_length=50, do_sample=True, temperature=0.9)\n",
    "# print(output)"
   ]
  },
  {
   "cell_type": "code",
   "execution_count": 9,
   "metadata": {},
   "outputs": [
    {
     "name": "stderr",
     "output_type": "stream",
     "text": [
      "Setting `pad_token_id` to `eos_token_id`:50256 for open-end generation.\n"
     ]
    },
    {
     "name": "stdout",
     "output_type": "stream",
     "text": [
      "[{'generated_text': 'Technical description for etcher is the follows:\\n\\nThe etching process is applied to form recesses in a substrate, which recesses are intended to provide for the disposition of electronic components. In conventional etching, the substrate is exposed to chemical etching solutions which attack through a mask applied to the surface of the substrate. When a substantial amount of etchants is consumed, a portion of the mask is still exposed, in which case more etchants may be passed through the area,'}]\n"
     ]
    }
   ],
   "source": [
    "context = \"Technical description for etcher is the follows:\"\n",
    "output = generator(context, max_length=100, do_sample=True, temperature=0.9)\n",
    "print(output)"
   ]
  },
  {
   "cell_type": "code",
   "execution_count": null,
   "metadata": {},
   "outputs": [],
   "source": []
  }
 ],
 "metadata": {
  "kernelspec": {
   "display_name": "nlp_test",
   "language": "python",
   "name": "python3"
  },
  "language_info": {
   "codemirror_mode": {
    "name": "ipython",
    "version": 3
   },
   "file_extension": ".py",
   "mimetype": "text/x-python",
   "name": "python",
   "nbconvert_exporter": "python",
   "pygments_lexer": "ipython3",
   "version": "3.10.0"
  },
  "orig_nbformat": 4
 },
 "nbformat": 4,
 "nbformat_minor": 2
}
